{
 "cells": [
  {
   "cell_type": "code",
   "execution_count": 2,
   "metadata": {
    "collapsed": true
   },
   "outputs": [],
   "source": [
    "import pandas as pd\n",
    "import numpy as np\n",
    "import requests \n",
    "from bs4 import BeautifulSoup"
   ]
  },
  {
   "cell_type": "code",
   "execution_count": 7,
   "metadata": {
    "collapsed": true
   },
   "outputs": [],
   "source": [
    "origin_list=pd.read_excel(\"origin_list.xlsm\",index_col=22,parse_dates=True)"
   ]
  },
  {
   "cell_type": "code",
   "execution_count": 16,
   "metadata": {
    "collapsed": true
   },
   "outputs": [],
   "source": [
    "need_list=origin_list.sort_index().loc[:\"2016-01-01\"]"
   ]
  },
  {
   "cell_type": "code",
   "execution_count": 17,
   "metadata": {
    "collapsed": true
   },
   "outputs": [],
   "source": [
    "need_list.to_excel(\"new_list.xlsx\")"
   ]
  },
  {
   "cell_type": "code",
   "execution_count": 3,
   "metadata": {},
   "outputs": [],
   "source": [
    "need_list=pd.read_excel(\"new_list.xlsx\")"
   ]
  },
  {
   "cell_type": "code",
   "execution_count": 4,
   "metadata": {
    "collapsed": true
   },
   "outputs": [],
   "source": [
    "all_ETF=need_list[\"Symbol\"].values"
   ]
  },
  {
   "cell_type": "code",
   "execution_count": 5,
   "metadata": {},
   "outputs": [
    {
     "data": {
      "text/plain": [
       "array(['EWM', 'ADRE', 'EEM', 'FXI', 'PGJ', 'VWO', 'EEV', 'EUM', 'SPEM',\n",
       "       'GXC', 'GMF', 'FXP', 'DEM', 'DGS', 'FNI', 'AIA', 'PIE', 'HAO',\n",
       "       'EPI', 'THD', 'PIN', 'AAXJ', 'EWX', 'EDC', 'EDZ', 'IDX', 'EET',\n",
       "       'XPP', 'YINN', 'YANG', 'CQQQ', 'CHIC', 'CHIX', 'YAO', 'VNM', 'INDY',\n",
       "       'CHII', 'CHIQ', 'CHIE', 'YXI', 'EIDO', 'SCIN', 'SCIF', 'ECNS',\n",
       "       'EPHE', 'PEK', 'INDL', 'INXX', 'CHIM', 'ASEA', 'EDIV', 'MCHI',\n",
       "       'FEM', 'FCA', 'DBEM', 'INCO', 'EEMV', 'INDA', 'NFTY', 'FEMS',\n",
       "       'SMIN', 'EEMA', 'CXSE', 'DGRE', 'ASHR', 'KFYP', 'KWEB', 'AXJV',\n",
       "       'KBA', 'CN', 'ASHS', 'CNXT', 'EMQQ', 'XCEM', 'CHAU', 'CHAD', 'EMGF',\n",
       "       'ASHX', 'CNHX', 'XINA', 'KALL', 'AFTY'], dtype=object)"
      ]
     },
     "execution_count": 5,
     "metadata": {},
     "output_type": "execute_result"
    }
   ],
   "source": [
    "all_ETF"
   ]
  },
  {
   "cell_type": "code",
   "execution_count": 6,
   "metadata": {
    "collapsed": true
   },
   "outputs": [],
   "source": [
    "url=\"https://etfdb.com/etf/\"+all_ETF[0]"
   ]
  },
  {
   "cell_type": "code",
   "execution_count": 7,
   "metadata": {
    "collapsed": true
   },
   "outputs": [],
   "source": [
    "resp = requests.get(url)"
   ]
  },
  {
   "cell_type": "code",
   "execution_count": 8,
   "metadata": {
    "collapsed": true
   },
   "outputs": [],
   "source": [
    "soup = BeautifulSoup(resp.text, 'html.parser')"
   ]
  },
  {
   "cell_type": "code",
   "execution_count": 9,
   "metadata": {
    "collapsed": true
   },
   "outputs": [],
   "source": [
    "span=soup.find_all(\"a\",text='Home page')"
   ]
  },
  {
   "cell_type": "code",
   "execution_count": 10,
   "metadata": {
    "collapsed": true
   },
   "outputs": [],
   "source": [
    "url_homepage=span[0].get(\"href\")"
   ]
  },
  {
   "cell_type": "code",
   "execution_count": 12,
   "metadata": {},
   "outputs": [],
   "source": [
    "resp = requests.get(url_homepage)"
   ]
  },
  {
   "cell_type": "code",
   "execution_count": 13,
   "metadata": {
    "collapsed": true
   },
   "outputs": [],
   "source": [
    "soup = BeautifulSoup(resp.text, 'html.parser')"
   ]
  },
  {
   "cell_type": "code",
   "execution_count": 25,
   "metadata": {
    "collapsed": true
   },
   "outputs": [],
   "source": [
    "excel_file=soup.find_all(\"a\",{\"class\":\"icon-xls-export\"})[3].get(\"href\")"
   ]
  },
  {
   "cell_type": "code",
   "execution_count": 26,
   "metadata": {
    "collapsed": true
   },
   "outputs": [],
   "source": [
    "domain_url = \"https://www.ishares.com\""
   ]
  },
  {
   "cell_type": "code",
   "execution_count": 27,
   "metadata": {},
   "outputs": [],
   "source": [
    "excel_file= domain_url+excel_file"
   ]
  },
  {
   "cell_type": "code",
   "execution_count": 28,
   "metadata": {},
   "outputs": [
    {
     "data": {
      "text/plain": [
       "'https://www.ishares.com/us/products/239669/ishares-msci-malaysia-etf/1521942788811.ajax?fileType=xls&fileName=iShares-MSCI-Malaysia-ETF_fund&dataType=fund'"
      ]
     },
     "execution_count": 28,
     "metadata": {},
     "output_type": "execute_result"
    }
   ],
   "source": [
    "excel_file"
   ]
  },
  {
   "cell_type": "code",
   "execution_count": 29,
   "metadata": {},
   "outputs": [
    {
     "data": {
      "text/plain": [
       "('test.xls', <http.client.HTTPMessage at 0x1110a0908>)"
      ]
     },
     "execution_count": 29,
     "metadata": {},
     "output_type": "execute_result"
    }
   ],
   "source": [
    "import urllib.request\n",
    "urllib.request.urlretrieve(excel_file, \"test.xls\")"
   ]
  },
  {
   "cell_type": "code",
   "execution_count": 31,
   "metadata": {
    "collapsed": true
   },
   "outputs": [],
   "source": [
    "url=\"https://etfdb.com/etf/\"+all_ETF[1]\n",
    "resp = requests.get(url)\n",
    "soup = BeautifulSoup(resp.text, 'html.parser')\n",
    "span=soup.find_all(\"a\",text='Home page')\n",
    "url_homepage=span[0].get(\"href\")\n",
    "resp = requests.get(url_homepage)\n",
    "soup = BeautifulSoup(resp.text, 'html.parser')"
   ]
  },
  {
   "cell_type": "code",
   "execution_count": 37,
   "metadata": {},
   "outputs": [
    {
     "data": {
      "text/plain": [
       "'https://www.invesco.com/portal/site/us/financial-professional/etfs/product-detail?productId=ADRE'"
      ]
     },
     "execution_count": 37,
     "metadata": {},
     "output_type": "execute_result"
    }
   ],
   "source": [
    "url_homepage"
   ]
  },
  {
   "cell_type": "code",
   "execution_count": 38,
   "metadata": {
    "collapsed": true
   },
   "outputs": [],
   "source": [
    "url=\"https://etfdb.com/etf/\"+all_ETF[2]\n",
    "resp = requests.get(url)\n",
    "soup = BeautifulSoup(resp.text, 'html.parser')\n",
    "span=soup.find_all(\"a\",text='Home page')\n",
    "url_homepage=span[0].get(\"href\")\n",
    "resp = requests.get(url_homepage)\n",
    "soup = BeautifulSoup(resp.text, 'html.parser')"
   ]
  },
  {
   "cell_type": "code",
   "execution_count": 39,
   "metadata": {},
   "outputs": [
    {
     "data": {
      "text/plain": [
       "'http://us.ishares.com/product_info/fund/overview/EEM.htm?qt=EEM'"
      ]
     },
     "execution_count": 39,
     "metadata": {},
     "output_type": "execute_result"
    }
   ],
   "source": [
    "url_homepage"
   ]
  },
  {
   "cell_type": "code",
   "execution_count": 44,
   "metadata": {
    "scrolled": true
   },
   "outputs": [
    {
     "name": "stdout",
     "output_type": "stream",
     "text": [
      "http://us.ishares.com/product_info/fund/overview/EWM.htm?qt=EWM\n",
      "https://www.invesco.com/portal/site/us/financial-professional/etfs/product-detail?productId=ADRE\n",
      "http://us.ishares.com/product_info/fund/overview/EEM.htm?qt=EEM\n",
      "http://us.ishares.com/product_info/fund/overview/FXI.htm?qt=FXI\n",
      "http://invescopowershares.com/products/overview.aspx?ticker=PGJ\n",
      "https://personal.vanguard.com/us/funds/snapshot?FundId=0964&FundIntExt=INT\n",
      "http://www.proshares.com/funds/eev.html\n",
      "http://www.proshares.com/funds/eum.html\n",
      "https://us.spdrs.com/en/etf/spdr-portfolio-emerging-markets-etf-SPEM\n",
      "https://www.spdrs.com/product/fund.seam?ticker=GXC\n",
      "https://www.spdrs.com/product/fund.seam?ticker=GMF\n",
      "http://www.proshares.com/funds/fxp.html\n",
      "http://www.wisdomtree.com/etfs/fund-details.asp?etfid=50\n",
      "http://www.wisdomtree.com/etfs/fund-details.asp?etfid=53\n",
      "http://www.ftportfolios.com/retail/ETF/ETFsummary.aspx?Ticker=FNI\n",
      "http://us.ishares.com/product_info/fund/overview/AIA.htm?qt=AIA\n",
      "http://invescopowershares.com/products/overview.aspx?ticker=PIE\n",
      "http://www.guggenheimfunds.com/etf/fund/HAO\n",
      "http://www.wisdomtree.com/etfs/fund-details.asp?etfid=51\n",
      "http://us.ishares.com/product_info/fund/overview/THD.htm?qt=THD\n",
      "http://invescopowershares.com/products/overview.aspx?ticker=PIN\n",
      "http://us.ishares.com/product_info/fund/overview/AAXJ.htm?qt=AAXJ\n",
      "https://www.spdrs.com/product/fund.seam?ticker=EWX\n",
      "http://direxionshares.com/etf/embu_bull_3x_shares.html\n",
      "http://direxionshares.com/etf/embe_bear_3x_shares.html\n",
      "http://www.vaneck.com/index.cfm?cat=3192&cGroup=ETF&LN=3-02&tkr=IDX&LN=3_02\n",
      "http://www.proshares.com/funds/eet.html\n",
      "http://www.proshares.com/funds/xpp.html\n",
      "http://www.direxioninvestments.com/products/direxion-daily-china-bull-3x-etf\n",
      "http://www.direxioninvestments.com/products/direxion-daily-china-bull-3x-etf\n",
      "http://guggenheiminvestments.com/products/etf/cqqq\n",
      "CHIC\n",
      "http://www.globalxfunds.com/CHIX\n",
      "http://guggenheiminvestments.com/products/etf/yao\n",
      "http://www.vaneck.com/index.cfm?cat=3192&cGroup=ETF&LN=3-02&tkr=VNM&LN=3_02\n",
      "http://us.ishares.com/product_info/fund/overview/INDY.htm?qt=INDY\n",
      "http://www.globalxfunds.com/CHII\n",
      "http://www.globalxfunds.com/CHIQ\n",
      "http://www.globalxfunds.com/CHIE\n",
      "http://proshares.com/funds/yxi.html\n",
      "http://us.ishares.com/product_info/fund/overview/EIDO.htm?qt=EIDO\n",
      "http://www.emergingglobaladvisors.com/scin.cfm\n",
      "http://vaneck.com/funds/SCIF.aspx\n",
      "http://www.ishares.com/us/products/239620/ishares-msci-china-smallcap-etf?qt=ECNS\n",
      "http://us.ishares.com/product_info/fund/overview/EPHE.htm?qt=EPHE\n",
      "http://vaneck.com/funds/PEK.aspx\n",
      "http://www.direxionshares.com/etf/indiabu_2x_shares.html\n",
      "http://www.emergingglobaladvisors.com/inxx.cfm\n",
      "http://www.globalxfunds.com/CHIM\n",
      "http://www.globalxfunds.com/fundsummary.php?fundid=19401&catid=26\n",
      "https://www.spdrs.com/product/fund.seam?ticker=EDIV\n",
      "http://us.ishares.com/product_info/fund/overview/MCHI.htm\n",
      "http://www.ftportfolios.com/Retail/etf/etfsummary.aspx?Ticker=FEM\n",
      "http://www.ftportfolios.com/Retail/etf/etfsummary.aspx?Ticker=FCA\n",
      "https://etfus.deutscheawm.com/US/EN/Product-Detail-Page/DBEM\n",
      "http://www.emergingglobaladvisors.com/inco.cfm\n",
      "http://us.ishares.com/product_info/fund/overview/EEMV.htm?fundSearch=true&qt=EEMV\n",
      "http://us.ishares.com/product_info/fund/overview/INDA.htm?fundSearch=true&qt=INDA\n",
      "NFTY\n",
      "http://www.ftportfolios.com/retail/etf/etfsummary.aspx?Ticker=FEMS\n",
      "http://www.ishares.com/us/products/239660/ishares-msci-india-smallcap-etf?fundSearch=true&qt=SMIN\n",
      "https://www.ishares.com/us/products/239629/EEMA?referrer=tickerSearch\n",
      "http://www.wisdomtree.com/etfs/fund-details.aspx?etfid=80\n",
      "http://www.wisdomtree.com/etfs/fund-details.aspx?etfid=86\n",
      "https://etfus.deutscheawm.com/US/EN/Product-Detail-Page/ASHR\n",
      "http://kraneshares.com/kfyp/\n",
      "http://kraneshares.com/kweb/\n",
      "http://www.ishares.com/us/products/264606/AXJV\n",
      "http://kraneshares.com/kba/\n",
      "https://etfus.deutscheawm.com/US/EN/Product-Detail-Page/CN\n",
      "https://etfus.deutscheawm.com/US/EN/Product-Detail-Page/ASHS\n",
      "http://www.vaneck.com/funds/CNXT.aspx\n",
      "http://www.emqqetf.com/\n",
      "http://www.emergingglobaladvisors.com/xcem.cfm\n",
      "http://www.direxioninvestments.com/products/direxion-daily-csi-300-china-a-share-bull-2x-shares\n",
      "http://www.direxioninvestments.com/products/direxion-daily-csi-300-china-a-share-bear-1x-shares\n",
      "https://www.ishares.com/us/products/272820/ishares-msci-emerging-multi-factor-etf\n",
      "https://etfus.deutscheawm.com/US/EN/Product-Detail-Page/ASHX\n",
      "http://www.csopasset.us/en-us/products/etf/csop-msci-china-a-international-hedged-etf/\n",
      "https://www.spdrs.com/product/fund.seam?ticker=XINA\n",
      "KALL\n",
      "AFTY\n"
     ]
    }
   ],
   "source": [
    "for i in range(len(all_ETF)):\n",
    "    try:\n",
    "        url=\"https://etfdb.com/etf/\"+all_ETF[i]\n",
    "        resp = requests.get(url)\n",
    "        soup = BeautifulSoup(resp.text, 'html.parser')\n",
    "        span=soup.find_all(\"a\",text='Home page')\n",
    "        url_homepage=span[0].get(\"href\")\n",
    "        print (url_homepage)\n",
    "    except:\n",
    "        print(all_ETF[i])"
   ]
  },
  {
   "cell_type": "code",
   "execution_count": 49,
   "metadata": {
    "collapsed": true
   },
   "outputs": [],
   "source": [
    "url=\"https://etfdb.com/etf/\"+all_ETF[1]\n",
    "resp = requests.get(url)\n",
    "soup = BeautifulSoup(resp.text, 'html.parser')\n",
    "span=soup.find_all(\"a\",text='Home page')\n",
    "url_homepage=span[0].get(\"href\")"
   ]
  },
  {
   "cell_type": "code",
   "execution_count": 51,
   "metadata": {},
   "outputs": [],
   "source": [
    "from selenium import webdriver\n",
    "driver = webdriver.Chrome()\n",
    "driver.get(url_homepage)\n",
    "driver.find_element_by_link_tex\n",
    "t(\"Historical NAVs\").click()"
   ]
  },
  {
   "cell_type": "code",
   "execution_count": null,
   "metadata": {
    "collapsed": true
   },
   "outputs": [],
   "source": []
  }
 ],
 "metadata": {
  "kernelspec": {
   "display_name": "Python 3",
   "language": "python",
   "name": "python3"
  },
  "language_info": {
   "codemirror_mode": {
    "name": "ipython",
    "version": 3
   },
   "file_extension": ".py",
   "mimetype": "text/x-python",
   "name": "python",
   "nbconvert_exporter": "python",
   "pygments_lexer": "ipython3",
   "version": "3.6.7"
  }
 },
 "nbformat": 4,
 "nbformat_minor": 2
}
