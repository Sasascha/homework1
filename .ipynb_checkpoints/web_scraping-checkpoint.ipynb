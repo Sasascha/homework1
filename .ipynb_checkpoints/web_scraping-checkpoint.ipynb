{
 "cells": [
  {
   "cell_type": "code",
   "execution_count": 1,
   "metadata": {
    "collapsed": true
   },
   "outputs": [],
   "source": [
    "import pandas as pd\n",
    "import numpy as np\n",
    "import requests \n",
    "from bs4 import BeautifulSoup\n",
    "import urllib.request\n",
    "import os\n",
    "from selenium import webdriver\n",
    "import datetime as dt\n",
    "import time\n",
    "import calendar\n",
    "def get_homepage(i):\n",
    "    url=\"https://etfdb.com/etf/\"+all_ETF[i]\n",
    "    resp = requests.get(url)\n",
    "    soup = BeautifulSoup(resp.text, 'html.parser')\n",
    "    span=soup.find_all(\"a\",text='Home page')\n",
    "    url_homepage=span[0].get(\"href\")\n",
    "    return url_homepage\n",
    "def get_the_last_day_of_month(start_date,end_date):\n",
    "    ans = []\n",
    "    temp = start_date - dt.timedelta(1)\n",
    "    year = start_date.year\n",
    "    month = start_date.month\n",
    "    while (temp < end_date):\n",
    "        temp = temp + dt.timedelta(calendar.monthrange(year,month)[1])\n",
    "        ans.append(temp)\n",
    "        month += 1\n",
    "        if(month > 12):\n",
    "            month = 1\n",
    "            year += 1\n",
    "    return ans\n",
    "last_day_of_month = get_the_last_day_of_month(dt.datetime(2016,1,1,0,0),dt.datetime(2018,12,31,0,0))"
   ]
  },
  {
   "cell_type": "code",
   "execution_count": 2,
   "metadata": {
    "collapsed": true
   },
   "outputs": [],
   "source": [
    "for i in range(len(last_day_of_month)):\n",
    "    if last_day_of_month[i].isoweekday()>5:\n",
    "        last_day_of_month[i]=last_day_of_month[i]+dt.timedelta(days=5-last_day_of_month[i].isoweekday())"
   ]
  },
  {
   "cell_type": "code",
   "execution_count": 2,
   "metadata": {
    "collapsed": true
   },
   "outputs": [],
   "source": [
    "#將太晚發行ETF拿掉\n",
    "origin_list=pd.read_excel(\"origin_list.xlsm\",index_col=22,parse_dates=True)\n",
    "need_list=origin_list.sort_index().loc[:\"2016-01-01\"]\n",
    "need_list.to_excel(\"new_list.xlsx\")"
   ]
  },
  {
   "cell_type": "code",
   "execution_count": 3,
   "metadata": {},
   "outputs": [
    {
     "data": {
      "text/plain": [
       "array(['EWM', 'ADRE', 'EEM', 'FXI', 'PGJ', 'VWO', 'EEV', 'EUM', 'SPEM',\n",
       "       'GXC', 'GMF', 'FXP', 'DEM', 'DGS', 'FNI', 'AIA', 'PIE', 'HAO',\n",
       "       'EPI', 'THD', 'PIN', 'AAXJ', 'EWX', 'EDC', 'EDZ', 'IDX', 'EET',\n",
       "       'XPP', 'YINN', 'YANG', 'CQQQ', 'CHIC', 'CHIX', 'YAO', 'VNM', 'INDY',\n",
       "       'CHII', 'CHIQ', 'CHIE', 'YXI', 'EIDO', 'SCIN', 'SCIF', 'ECNS',\n",
       "       'EPHE', 'PEK', 'INDL', 'INXX', 'CHIM', 'ASEA', 'EDIV', 'MCHI',\n",
       "       'FEM', 'FCA', 'DBEM', 'INCO', 'EEMV', 'INDA', 'NFTY', 'FEMS',\n",
       "       'SMIN', 'EEMA', 'CXSE', 'DGRE', 'ASHR', 'KFYP', 'KWEB', 'AXJV',\n",
       "       'KBA', 'CN', 'ASHS', 'CNXT', 'EMQQ', 'XCEM', 'CHAU', 'CHAD', 'EMGF',\n",
       "       'ASHX', 'CNHX', 'XINA', 'KALL', 'AFTY'], dtype=object)"
      ]
     },
     "execution_count": 3,
     "metadata": {},
     "output_type": "execute_result"
    }
   ],
   "source": [
    "need_list=pd.read_excel(\"new_list.xlsx\")\n",
    "all_ETF=need_list[\"Symbol\"].values\n",
    "all_ETF"
   ]
  },
  {
   "cell_type": "code",
   "execution_count": 44,
   "metadata": {
    "scrolled": true
   },
   "outputs": [
    {
     "name": "stdout",
     "output_type": "stream",
     "text": [
      "http://us.ishares.com/product_info/fund/overview/EWM.htm?qt=EWM\n",
      "https://www.invesco.com/portal/site/us/financial-professional/etfs/product-detail?productId=ADRE\n",
      "http://us.ishares.com/product_info/fund/overview/EEM.htm?qt=EEM\n",
      "http://us.ishares.com/product_info/fund/overview/FXI.htm?qt=FXI\n",
      "http://invescopowershares.com/products/overview.aspx?ticker=PGJ\n",
      "https://personal.vanguard.com/us/funds/snapshot?FundId=0964&FundIntExt=INT\n",
      "http://www.proshares.com/funds/eev.html\n",
      "http://www.proshares.com/funds/eum.html\n",
      "https://us.spdrs.com/en/etf/spdr-portfolio-emerging-markets-etf-SPEM\n",
      "https://www.spdrs.com/product/fund.seam?ticker=GXC\n",
      "https://www.spdrs.com/product/fund.seam?ticker=GMF\n",
      "http://www.proshares.com/funds/fxp.html\n",
      "http://www.wisdomtree.com/etfs/fund-details.asp?etfid=50\n",
      "http://www.wisdomtree.com/etfs/fund-details.asp?etfid=53\n",
      "http://www.ftportfolios.com/retail/ETF/ETFsummary.aspx?Ticker=FNI\n",
      "http://us.ishares.com/product_info/fund/overview/AIA.htm?qt=AIA\n",
      "http://invescopowershares.com/products/overview.aspx?ticker=PIE\n",
      "http://www.guggenheimfunds.com/etf/fund/HAO\n",
      "http://www.wisdomtree.com/etfs/fund-details.asp?etfid=51\n",
      "http://us.ishares.com/product_info/fund/overview/THD.htm?qt=THD\n",
      "http://invescopowershares.com/products/overview.aspx?ticker=PIN\n",
      "http://us.ishares.com/product_info/fund/overview/AAXJ.htm?qt=AAXJ\n",
      "https://www.spdrs.com/product/fund.seam?ticker=EWX\n",
      "http://direxionshares.com/etf/embu_bull_3x_shares.html\n",
      "http://direxionshares.com/etf/embe_bear_3x_shares.html\n",
      "http://www.vaneck.com/index.cfm?cat=3192&cGroup=ETF&LN=3-02&tkr=IDX&LN=3_02\n",
      "http://www.proshares.com/funds/eet.html\n",
      "http://www.proshares.com/funds/xpp.html\n",
      "http://www.direxioninvestments.com/products/direxion-daily-china-bull-3x-etf\n",
      "http://www.direxioninvestments.com/products/direxion-daily-china-bull-3x-etf\n",
      "http://guggenheiminvestments.com/products/etf/cqqq\n",
      "CHIC\n",
      "http://www.globalxfunds.com/CHIX\n",
      "http://guggenheiminvestments.com/products/etf/yao\n",
      "http://www.vaneck.com/index.cfm?cat=3192&cGroup=ETF&LN=3-02&tkr=VNM&LN=3_02\n",
      "http://us.ishares.com/product_info/fund/overview/INDY.htm?qt=INDY\n",
      "http://www.globalxfunds.com/CHII\n",
      "http://www.globalxfunds.com/CHIQ\n",
      "http://www.globalxfunds.com/CHIE\n",
      "http://proshares.com/funds/yxi.html\n",
      "http://us.ishares.com/product_info/fund/overview/EIDO.htm?qt=EIDO\n",
      "http://www.emergingglobaladvisors.com/scin.cfm\n",
      "http://vaneck.com/funds/SCIF.aspx\n",
      "http://www.ishares.com/us/products/239620/ishares-msci-china-smallcap-etf?qt=ECNS\n",
      "http://us.ishares.com/product_info/fund/overview/EPHE.htm?qt=EPHE\n",
      "http://vaneck.com/funds/PEK.aspx\n",
      "http://www.direxionshares.com/etf/indiabu_2x_shares.html\n",
      "http://www.emergingglobaladvisors.com/inxx.cfm\n",
      "http://www.globalxfunds.com/CHIM\n",
      "http://www.globalxfunds.com/fundsummary.php?fundid=19401&catid=26\n",
      "https://www.spdrs.com/product/fund.seam?ticker=EDIV\n",
      "http://us.ishares.com/product_info/fund/overview/MCHI.htm\n",
      "http://www.ftportfolios.com/Retail/etf/etfsummary.aspx?Ticker=FEM\n",
      "http://www.ftportfolios.com/Retail/etf/etfsummary.aspx?Ticker=FCA\n",
      "https://etfus.deutscheawm.com/US/EN/Product-Detail-Page/DBEM\n",
      "http://www.emergingglobaladvisors.com/inco.cfm\n",
      "http://us.ishares.com/product_info/fund/overview/EEMV.htm?fundSearch=true&qt=EEMV\n",
      "http://us.ishares.com/product_info/fund/overview/INDA.htm?fundSearch=true&qt=INDA\n",
      "NFTY\n",
      "http://www.ftportfolios.com/retail/etf/etfsummary.aspx?Ticker=FEMS\n",
      "http://www.ishares.com/us/products/239660/ishares-msci-india-smallcap-etf?fundSearch=true&qt=SMIN\n",
      "https://www.ishares.com/us/products/239629/EEMA?referrer=tickerSearch\n",
      "http://www.wisdomtree.com/etfs/fund-details.aspx?etfid=80\n",
      "http://www.wisdomtree.com/etfs/fund-details.aspx?etfid=86\n",
      "https://etfus.deutscheawm.com/US/EN/Product-Detail-Page/ASHR\n",
      "http://kraneshares.com/kfyp/\n",
      "http://kraneshares.com/kweb/\n",
      "http://www.ishares.com/us/products/264606/AXJV\n",
      "http://kraneshares.com/kba/\n",
      "https://etfus.deutscheawm.com/US/EN/Product-Detail-Page/CN\n",
      "https://etfus.deutscheawm.com/US/EN/Product-Detail-Page/ASHS\n",
      "http://www.vaneck.com/funds/CNXT.aspx\n",
      "http://www.emqqetf.com/\n",
      "http://www.emergingglobaladvisors.com/xcem.cfm\n",
      "http://www.direxioninvestments.com/products/direxion-daily-csi-300-china-a-share-bull-2x-shares\n",
      "http://www.direxioninvestments.com/products/direxion-daily-csi-300-china-a-share-bear-1x-shares\n",
      "https://www.ishares.com/us/products/272820/ishares-msci-emerging-multi-factor-etf\n",
      "https://etfus.deutscheawm.com/US/EN/Product-Detail-Page/ASHX\n",
      "http://www.csopasset.us/en-us/products/etf/csop-msci-china-a-international-hedged-etf/\n",
      "https://www.spdrs.com/product/fund.seam?ticker=XINA\n",
      "KALL\n",
      "AFTY\n"
     ]
    }
   ],
   "source": [
    "#print all ETF address\n",
    "for i in range(len(all_ETF)):\n",
    "    try:\n",
    "        url=\"https://etfdb.com/etf/\"+all_ETF[i]\n",
    "        resp = requests.get(url)\n",
    "        soup = BeautifulSoup(resp.text, 'html.parser')\n",
    "        span=soup.find_all(\"a\",text='Home page')\n",
    "        url_homepage=span[0].get(\"href\")\n",
    "        print (url_homepage)\n",
    "    except:\n",
    "        print(all_ETF[i])     "
   ]
  },
  {
   "cell_type": "code",
   "execution_count": 33,
   "metadata": {
    "scrolled": false
   },
   "outputs": [
    {
     "name": "stdout",
     "output_type": "stream",
     "text": [
      "http://www.ftportfolios.com/retail/ETF/ETFsummary.aspx?Ticker=FNI\n",
      "http://www.guggenheimfunds.com/etf/fund/HAO\n",
      "http://direxionshares.com/etf/embu_bull_3x_shares.html\n",
      "http://direxionshares.com/etf/embe_bear_3x_shares.html\n",
      "http://www.direxioninvestments.com/products/direxion-daily-china-bull-3x-etf\n",
      "http://www.direxioninvestments.com/products/direxion-daily-china-bull-3x-etf\n",
      "http://guggenheiminvestments.com/products/etf/cqqq\n",
      "CHIC\n",
      "http://guggenheiminvestments.com/products/etf/yao\n",
      "http://www.direxionshares.com/etf/indiabu_2x_shares.html\n",
      "http://www.ftportfolios.com/Retail/etf/etfsummary.aspx?Ticker=FEM\n",
      "http://www.ftportfolios.com/Retail/etf/etfsummary.aspx?Ticker=FCA\n",
      "https://etfus.deutscheawm.com/US/EN/Product-Detail-Page/DBEM\n",
      "NFTY\n",
      "http://www.ftportfolios.com/retail/etf/etfsummary.aspx?Ticker=FEMS\n",
      "https://etfus.deutscheawm.com/US/EN/Product-Detail-Page/ASHR\n",
      "http://kraneshares.com/kfyp/\n",
      "http://kraneshares.com/kweb/\n",
      "http://kraneshares.com/kba/\n",
      "https://etfus.deutscheawm.com/US/EN/Product-Detail-Page/CN\n",
      "https://etfus.deutscheawm.com/US/EN/Product-Detail-Page/ASHS\n",
      "http://www.emqqetf.com/\n",
      "http://www.direxioninvestments.com/products/direxion-daily-csi-300-china-a-share-bull-2x-shares\n",
      "http://www.direxioninvestments.com/products/direxion-daily-csi-300-china-a-share-bear-1x-shares\n",
      "https://etfus.deutscheawm.com/US/EN/Product-Detail-Page/ASHX\n",
      "http://www.csopasset.us/en-us/products/etf/csop-msci-china-a-international-hedged-etf/\n",
      "KALL\n",
      "AFTY\n"
     ]
    }
   ],
   "source": [
    "# print unsolve website\n",
    "for i in range(len(all_ETF)):\n",
    "    try:\n",
    "        url=\"https://etfdb.com/etf/\"+all_ETF[i]\n",
    "        resp = requests.get(url)\n",
    "        soup = BeautifulSoup(resp.text, 'html.parser')\n",
    "        span=soup.find_all(\"a\",text='Home page')\n",
    "        url_homepage=span[0].get(\"href\")\n",
    "        if \"ishares\" in url_homepage:#處理ishare的ETF\n",
    "            continue\n",
    "        elif \"invesco\" in url_homepage:#處理invesco的ETF\n",
    "            continue\n",
    "        elif \"vanguard\" in url_homepage: #vanguard\n",
    "            continue\n",
    "        elif \"proshares\" in url_homepage: #proshares\n",
    "            continue\n",
    "        elif \"spdrs\" in url_homepage: #spdrs\n",
    "            continue\n",
    "        elif \"wisdomtree\" in url_homepage: #wisdomtree\n",
    "            continue\n",
    "        elif \"vaneck\" in url_homepage:#vaneck\n",
    "            continue\n",
    "        elif \"emerging\" in url_homepage:#emerging\n",
    "            continue\n",
    "        elif \"globalxfunds\" in url_homepage:#globalxfunds\n",
    "            continue\n",
    "        else:\n",
    "            print (url_homepage)\n",
    "    except:\n",
    "        print(all_ETF[i])\n",
    "        "
   ]
  },
  {
   "cell_type": "code",
   "execution_count": null,
   "metadata": {
    "collapsed": true
   },
   "outputs": [],
   "source": [
    "for i in range(1):\n",
    "    try:\n",
    "        url_homepage=get_homepage(i)\n",
    "        print (url_homepage)\n",
    "        if \"ishares\" in url_homepage:#處理ishare的ETF\n",
    "            download_ishare(i,url_homepage)\n",
    "        if \"invesco\" in url_homepage:#處理invesco的ETF\n",
    "            NAV=download_invesco(i,url_homepage)\n",
    "        if \"vanguard\" in url_homepage: #vanguard\n",
    "        if \"proshares\" in url_homepage: #proshares\n",
    "        if \"spdrs\" in url_homepage: #spdrs\n",
    "            NAV=download_spdrs(i,url_homepage)\n",
    "        if \"wisdomtree\" in url_homepage: #wisdomtree\n",
    "            url=\"https://etfdb.com/etf/\"+all_ETF[13]\n",
    "            resp = requests.get(url)\n",
    "            soup = BeautifulSoup(resp.text, 'html.parser')\n",
    "            span=soup.find_all(\"a\",text='Home page')\n",
    "            url_homepage=span[0].get(\"href\")\n",
    "            resp = requests.get(url_homepage)\n",
    "            soup = BeautifulSoup(resp.text, 'html.parser')\n",
    "            link_address=soup.find_all(\"a\",{\"class\":\"text-link fund-modal-trigger\"})[0].get(\"data-href\")\n",
    "            data=pd.read_html(link_address,index_col=0,parse_dates=True)\n",
    "        if \"vaneck\" in url_homepage:#vaneck\n",
    "        if \"emerging\" in url_homepage:#emerging\n",
    "            NAV=download_emerging(i,url_homepage)\n",
    "        if \"globalxfunds\" in url_homepage:#globalxfunds\n",
    "            NAV=download_globalxfunds(i,url_homepage)\n",
    "    except:\n",
    "        print(all_ETF[i])"
   ]
  },
  {
   "cell_type": "code",
   "execution_count": 31,
   "metadata": {
    "collapsed": true
   },
   "outputs": [],
   "source": [
    "import io\n",
    "file1=io.open(\"data/EWM.xls\", \"r\", encoding=\"utf-8\")\n",
    "pd.read_excel(\"data/EWM.xls\")"
   ]
  },
  {
   "cell_type": "code",
   "execution_count": 11,
   "metadata": {
    "collapsed": true
   },
   "outputs": [],
   "source": [
    "#ishare 未能讀檔\n",
    "def download_ishare(i,url_homepage):\n",
    "    resp = requests.get(url_homepage)\n",
    "    soup = BeautifulSoup(resp.text, 'html.parser')\n",
    "    excel_file=soup.find_all(\"a\",{\"class\":\"icon-xls-export\"})[3].get(\"href\")\n",
    "    domain_url = \"https://www.ishares.com\"\n",
    "    excel_file= domain_url+excel_file\n",
    "    file_name=\"data/\"+all_ETF[i]+\".xls\"\n",
    "    urllib.request.urlretrieve(excel_file, file_name)"
   ]
  },
  {
   "cell_type": "code",
   "execution_count": 34,
   "metadata": {
    "collapsed": true
   },
   "outputs": [],
   "source": [
    "url_homepage=get_homepage(0)"
   ]
  },
  {
   "cell_type": "code",
   "execution_count": 35,
   "metadata": {},
   "outputs": [
    {
     "data": {
      "text/plain": [
       "'http://us.ishares.com/product_info/fund/overview/EWM.htm?qt=EWM'"
      ]
     },
     "execution_count": 35,
     "metadata": {},
     "output_type": "execute_result"
    }
   ],
   "source": [
    "url_homepage"
   ]
  },
  {
   "cell_type": "code",
   "execution_count": 13,
   "metadata": {
    "collapsed": true
   },
   "outputs": [],
   "source": [
    "download_ishare(0,url_homepage)"
   ]
  },
  {
   "cell_type": "code",
   "execution_count": 8,
   "metadata": {
    "scrolled": true
   },
   "outputs": [
    {
     "ename": "XLRDError",
     "evalue": "Unsupported format, or corrupt file: Expected BOF record; found b'\\xef\\xbb\\xbf\\xef\\xbb\\xbf<?'",
     "output_type": "error",
     "traceback": [
      "\u001b[0;31m---------------------------------------------------------------------------\u001b[0m",
      "\u001b[0;31mXLRDError\u001b[0m                                 Traceback (most recent call last)",
      "\u001b[0;32m<ipython-input-8-3ae89a4b9ca2>\u001b[0m in \u001b[0;36m<module>\u001b[0;34m()\u001b[0m\n\u001b[0;32m----> 1\u001b[0;31m \u001b[0mpd\u001b[0m\u001b[0;34m.\u001b[0m\u001b[0mread_excel\u001b[0m\u001b[0;34m(\u001b[0m\u001b[0;34m\"data/EWM.xls\"\u001b[0m\u001b[0;34m)\u001b[0m\u001b[0;34m\u001b[0m\u001b[0;34m\u001b[0m\u001b[0m\n\u001b[0m",
      "\u001b[0;32m/anaconda/lib/python3.6/site-packages/pandas/io/excel.py\u001b[0m in \u001b[0;36mread_excel\u001b[0;34m(io, sheetname, header, skiprows, skip_footer, index_col, names, parse_cols, parse_dates, date_parser, na_values, thousands, convert_float, has_index_names, converters, dtype, true_values, false_values, engine, squeeze, **kwds)\u001b[0m\n\u001b[1;32m    201\u001b[0m \u001b[0;34m\u001b[0m\u001b[0m\n\u001b[1;32m    202\u001b[0m     \u001b[0;32mif\u001b[0m \u001b[0;32mnot\u001b[0m \u001b[0misinstance\u001b[0m\u001b[0;34m(\u001b[0m\u001b[0mio\u001b[0m\u001b[0;34m,\u001b[0m \u001b[0mExcelFile\u001b[0m\u001b[0;34m)\u001b[0m\u001b[0;34m:\u001b[0m\u001b[0;34m\u001b[0m\u001b[0;34m\u001b[0m\u001b[0m\n\u001b[0;32m--> 203\u001b[0;31m         \u001b[0mio\u001b[0m \u001b[0;34m=\u001b[0m \u001b[0mExcelFile\u001b[0m\u001b[0;34m(\u001b[0m\u001b[0mio\u001b[0m\u001b[0;34m,\u001b[0m \u001b[0mengine\u001b[0m\u001b[0;34m=\u001b[0m\u001b[0mengine\u001b[0m\u001b[0;34m)\u001b[0m\u001b[0;34m\u001b[0m\u001b[0;34m\u001b[0m\u001b[0m\n\u001b[0m\u001b[1;32m    204\u001b[0m \u001b[0;34m\u001b[0m\u001b[0m\n\u001b[1;32m    205\u001b[0m     return io._parse_excel(\n",
      "\u001b[0;32m/anaconda/lib/python3.6/site-packages/pandas/io/excel.py\u001b[0m in \u001b[0;36m__init__\u001b[0;34m(self, io, **kwds)\u001b[0m\n\u001b[1;32m    258\u001b[0m             \u001b[0mself\u001b[0m\u001b[0;34m.\u001b[0m\u001b[0mbook\u001b[0m \u001b[0;34m=\u001b[0m \u001b[0mxlrd\u001b[0m\u001b[0;34m.\u001b[0m\u001b[0mopen_workbook\u001b[0m\u001b[0;34m(\u001b[0m\u001b[0mfile_contents\u001b[0m\u001b[0;34m=\u001b[0m\u001b[0mdata\u001b[0m\u001b[0;34m)\u001b[0m\u001b[0;34m\u001b[0m\u001b[0;34m\u001b[0m\u001b[0m\n\u001b[1;32m    259\u001b[0m         \u001b[0;32melif\u001b[0m \u001b[0misinstance\u001b[0m\u001b[0;34m(\u001b[0m\u001b[0mio\u001b[0m\u001b[0;34m,\u001b[0m \u001b[0mcompat\u001b[0m\u001b[0;34m.\u001b[0m\u001b[0mstring_types\u001b[0m\u001b[0;34m)\u001b[0m\u001b[0;34m:\u001b[0m\u001b[0;34m\u001b[0m\u001b[0;34m\u001b[0m\u001b[0m\n\u001b[0;32m--> 260\u001b[0;31m             \u001b[0mself\u001b[0m\u001b[0;34m.\u001b[0m\u001b[0mbook\u001b[0m \u001b[0;34m=\u001b[0m \u001b[0mxlrd\u001b[0m\u001b[0;34m.\u001b[0m\u001b[0mopen_workbook\u001b[0m\u001b[0;34m(\u001b[0m\u001b[0mio\u001b[0m\u001b[0;34m)\u001b[0m\u001b[0;34m\u001b[0m\u001b[0;34m\u001b[0m\u001b[0m\n\u001b[0m\u001b[1;32m    261\u001b[0m         \u001b[0;32melse\u001b[0m\u001b[0;34m:\u001b[0m\u001b[0;34m\u001b[0m\u001b[0;34m\u001b[0m\u001b[0m\n\u001b[1;32m    262\u001b[0m             raise ValueError('Must explicitly set engine if not passing in'\n",
      "\u001b[0;32m/anaconda/lib/python3.6/site-packages/xlrd/__init__.py\u001b[0m in \u001b[0;36mopen_workbook\u001b[0;34m(filename, logfile, verbosity, use_mmap, file_contents, encoding_override, formatting_info, on_demand, ragged_rows)\u001b[0m\n\u001b[1;32m    439\u001b[0m         \u001b[0mformatting_info\u001b[0m\u001b[0;34m=\u001b[0m\u001b[0mformatting_info\u001b[0m\u001b[0;34m,\u001b[0m\u001b[0;34m\u001b[0m\u001b[0;34m\u001b[0m\u001b[0m\n\u001b[1;32m    440\u001b[0m         \u001b[0mon_demand\u001b[0m\u001b[0;34m=\u001b[0m\u001b[0mon_demand\u001b[0m\u001b[0;34m,\u001b[0m\u001b[0;34m\u001b[0m\u001b[0;34m\u001b[0m\u001b[0m\n\u001b[0;32m--> 441\u001b[0;31m         \u001b[0mragged_rows\u001b[0m\u001b[0;34m=\u001b[0m\u001b[0mragged_rows\u001b[0m\u001b[0;34m,\u001b[0m\u001b[0;34m\u001b[0m\u001b[0;34m\u001b[0m\u001b[0m\n\u001b[0m\u001b[1;32m    442\u001b[0m         )\n\u001b[1;32m    443\u001b[0m     \u001b[0;32mreturn\u001b[0m \u001b[0mbk\u001b[0m\u001b[0;34m\u001b[0m\u001b[0;34m\u001b[0m\u001b[0m\n",
      "\u001b[0;32m/anaconda/lib/python3.6/site-packages/xlrd/book.py\u001b[0m in \u001b[0;36mopen_workbook_xls\u001b[0;34m(filename, logfile, verbosity, use_mmap, file_contents, encoding_override, formatting_info, on_demand, ragged_rows)\u001b[0m\n\u001b[1;32m     89\u001b[0m         \u001b[0mt1\u001b[0m \u001b[0;34m=\u001b[0m \u001b[0mtime\u001b[0m\u001b[0;34m.\u001b[0m\u001b[0mclock\u001b[0m\u001b[0;34m(\u001b[0m\u001b[0;34m)\u001b[0m\u001b[0;34m\u001b[0m\u001b[0;34m\u001b[0m\u001b[0m\n\u001b[1;32m     90\u001b[0m         \u001b[0mbk\u001b[0m\u001b[0;34m.\u001b[0m\u001b[0mload_time_stage_1\u001b[0m \u001b[0;34m=\u001b[0m \u001b[0mt1\u001b[0m \u001b[0;34m-\u001b[0m \u001b[0mt0\u001b[0m\u001b[0;34m\u001b[0m\u001b[0;34m\u001b[0m\u001b[0m\n\u001b[0;32m---> 91\u001b[0;31m         \u001b[0mbiff_version\u001b[0m \u001b[0;34m=\u001b[0m \u001b[0mbk\u001b[0m\u001b[0;34m.\u001b[0m\u001b[0mgetbof\u001b[0m\u001b[0;34m(\u001b[0m\u001b[0mXL_WORKBOOK_GLOBALS\u001b[0m\u001b[0;34m)\u001b[0m\u001b[0;34m\u001b[0m\u001b[0;34m\u001b[0m\u001b[0m\n\u001b[0m\u001b[1;32m     92\u001b[0m         \u001b[0;32mif\u001b[0m \u001b[0;32mnot\u001b[0m \u001b[0mbiff_version\u001b[0m\u001b[0;34m:\u001b[0m\u001b[0;34m\u001b[0m\u001b[0;34m\u001b[0m\u001b[0m\n\u001b[1;32m     93\u001b[0m             \u001b[0;32mraise\u001b[0m \u001b[0mXLRDError\u001b[0m\u001b[0;34m(\u001b[0m\u001b[0;34m\"Can't determine file's BIFF version\"\u001b[0m\u001b[0;34m)\u001b[0m\u001b[0;34m\u001b[0m\u001b[0;34m\u001b[0m\u001b[0m\n",
      "\u001b[0;32m/anaconda/lib/python3.6/site-packages/xlrd/book.py\u001b[0m in \u001b[0;36mgetbof\u001b[0;34m(self, rqd_stream)\u001b[0m\n\u001b[1;32m   1228\u001b[0m             \u001b[0mbof_error\u001b[0m\u001b[0;34m(\u001b[0m\u001b[0;34m'Expected BOF record; met end of file'\u001b[0m\u001b[0;34m)\u001b[0m\u001b[0;34m\u001b[0m\u001b[0;34m\u001b[0m\u001b[0m\n\u001b[1;32m   1229\u001b[0m         \u001b[0;32mif\u001b[0m \u001b[0mopcode\u001b[0m \u001b[0;32mnot\u001b[0m \u001b[0;32min\u001b[0m \u001b[0mbofcodes\u001b[0m\u001b[0;34m:\u001b[0m\u001b[0;34m\u001b[0m\u001b[0;34m\u001b[0m\u001b[0m\n\u001b[0;32m-> 1230\u001b[0;31m             \u001b[0mbof_error\u001b[0m\u001b[0;34m(\u001b[0m\u001b[0;34m'Expected BOF record; found %r'\u001b[0m \u001b[0;34m%\u001b[0m \u001b[0mself\u001b[0m\u001b[0;34m.\u001b[0m\u001b[0mmem\u001b[0m\u001b[0;34m[\u001b[0m\u001b[0msavpos\u001b[0m\u001b[0;34m:\u001b[0m\u001b[0msavpos\u001b[0m\u001b[0;34m+\u001b[0m\u001b[0;36m8\u001b[0m\u001b[0;34m]\u001b[0m\u001b[0;34m)\u001b[0m\u001b[0;34m\u001b[0m\u001b[0;34m\u001b[0m\u001b[0m\n\u001b[0m\u001b[1;32m   1231\u001b[0m         \u001b[0mlength\u001b[0m \u001b[0;34m=\u001b[0m \u001b[0mself\u001b[0m\u001b[0;34m.\u001b[0m\u001b[0mget2bytes\u001b[0m\u001b[0;34m(\u001b[0m\u001b[0;34m)\u001b[0m\u001b[0;34m\u001b[0m\u001b[0;34m\u001b[0m\u001b[0m\n\u001b[1;32m   1232\u001b[0m         \u001b[0;32mif\u001b[0m \u001b[0mlength\u001b[0m \u001b[0;34m==\u001b[0m \u001b[0mMY_EOF\u001b[0m\u001b[0;34m:\u001b[0m\u001b[0;34m\u001b[0m\u001b[0;34m\u001b[0m\u001b[0m\n",
      "\u001b[0;32m/anaconda/lib/python3.6/site-packages/xlrd/book.py\u001b[0m in \u001b[0;36mbof_error\u001b[0;34m(msg)\u001b[0m\n\u001b[1;32m   1222\u001b[0m         \u001b[0;32mif\u001b[0m \u001b[0mDEBUG\u001b[0m\u001b[0;34m:\u001b[0m \u001b[0mprint\u001b[0m\u001b[0;34m(\u001b[0m\u001b[0;34m\"reqd: 0x%04x\"\u001b[0m \u001b[0;34m%\u001b[0m \u001b[0mrqd_stream\u001b[0m\u001b[0;34m,\u001b[0m \u001b[0mfile\u001b[0m\u001b[0;34m=\u001b[0m\u001b[0mself\u001b[0m\u001b[0;34m.\u001b[0m\u001b[0mlogfile\u001b[0m\u001b[0;34m)\u001b[0m\u001b[0;34m\u001b[0m\u001b[0;34m\u001b[0m\u001b[0m\n\u001b[1;32m   1223\u001b[0m         \u001b[0;32mdef\u001b[0m \u001b[0mbof_error\u001b[0m\u001b[0;34m(\u001b[0m\u001b[0mmsg\u001b[0m\u001b[0;34m)\u001b[0m\u001b[0;34m:\u001b[0m\u001b[0;34m\u001b[0m\u001b[0;34m\u001b[0m\u001b[0m\n\u001b[0;32m-> 1224\u001b[0;31m             \u001b[0;32mraise\u001b[0m \u001b[0mXLRDError\u001b[0m\u001b[0;34m(\u001b[0m\u001b[0;34m'Unsupported format, or corrupt file: '\u001b[0m \u001b[0;34m+\u001b[0m \u001b[0mmsg\u001b[0m\u001b[0;34m)\u001b[0m\u001b[0;34m\u001b[0m\u001b[0;34m\u001b[0m\u001b[0m\n\u001b[0m\u001b[1;32m   1225\u001b[0m         \u001b[0msavpos\u001b[0m \u001b[0;34m=\u001b[0m \u001b[0mself\u001b[0m\u001b[0;34m.\u001b[0m\u001b[0m_position\u001b[0m\u001b[0;34m\u001b[0m\u001b[0;34m\u001b[0m\u001b[0m\n\u001b[1;32m   1226\u001b[0m         \u001b[0mopcode\u001b[0m \u001b[0;34m=\u001b[0m \u001b[0mself\u001b[0m\u001b[0;34m.\u001b[0m\u001b[0mget2bytes\u001b[0m\u001b[0;34m(\u001b[0m\u001b[0;34m)\u001b[0m\u001b[0;34m\u001b[0m\u001b[0;34m\u001b[0m\u001b[0m\n",
      "\u001b[0;31mXLRDError\u001b[0m: Unsupported format, or corrupt file: Expected BOF record; found b'\\xef\\xbb\\xbf\\xef\\xbb\\xbf<?'"
     ]
    }
   ],
   "source": [
    "pd.read_excel(\"data/EWM.xls\")"
   ]
  },
  {
   "cell_type": "code",
   "execution_count": 57,
   "metadata": {
    "collapsed": true
   },
   "outputs": [],
   "source": [
    "#invesco\n",
    "def download_invesco(i,url_homepage):\n",
    "    options = webdriver.ChromeOptions()\n",
    "    prefs = {'profile.default_content_settings.popups': 0, 'download.default_directory': '/Users/shayumin/Documents/文字探勘/homework1'}\n",
    "    options.add_experimental_option('prefs', prefs)\n",
    "    driver = webdriver.Chrome(chrome_options=options)\n",
    "    driver.get(url_homepage)\n",
    "    driver.find_element_by_link_text(\"Historical NAVs\").click()\n",
    "    time.sleep(3)\n",
    "    driver.quit()\n",
    "    testdir = '/Users/shayumin/Documents/文字探勘/homework1/data'\n",
    "    list = os.listdir(testdir)\n",
    "    list.sort(key=lambda fn:os.path.getmtime(testdir+'/'+fn))\n",
    "    file_name=all_ETF[i]+\".csv\"\n",
    "    os.rename(os.path.join(testdir,list[-1]),os.path.join(testdir,file_name))\n",
    "    NAV=pd.read_csv(all_ETF[1]+\".csv\",index_col=2,parse_dates=True).loc[last_day_of_month][\"NAV\"]\n",
    "    return NAV"
   ]
  },
  {
   "cell_type": "code",
   "execution_count": 55,
   "metadata": {
    "collapsed": true
   },
   "outputs": [],
   "source": [
    "#vanguard\n",
    "url_homepage=get_homepage(5)\n",
    "search_url=\"https://personal.vanguard.com/us/funds/tools/pricehistorysearch?\"+url_homepage[url_homepage.find(\"FundId\"):url_homepage.find(\"FundIntExt\")-1]\n",
    "driver = webdriver.Chrome()\n",
    "driver.get(search_url)\n",
    "driver.find_element_by_name(\"beginDate\").send_keys(\"01/01/2016\")\n",
    "driver.find_element_by_name(\"endDate\").send_keys(\"12/31/2016\")\n",
    "driver.find_element_by_id(\"_cbdExt8\").click()"
   ]
  },
  {
   "cell_type": "code",
   "execution_count": 56,
   "metadata": {},
   "outputs": [
    {
     "data": {
      "text/plain": [
       "'https://personal.vanguard.com/us/funds/tools/pricehistorysearch?radio=1&results=get&FundType=ExchangeTradedShares&FundIntExt=INT&FundId=0964&fundName=0964&radiobutton2=1&beginDate=01%2F01%2F2016&endDate=12%2F31%2F2016&year=#res'"
      ]
     },
     "execution_count": 56,
     "metadata": {},
     "output_type": "execute_result"
    }
   ],
   "source": [
    "driver.current_url"
   ]
  },
  {
   "cell_type": "code",
   "execution_count": 61,
   "metadata": {},
   "outputs": [],
   "source": [
    "page_content=pd.read_html(driver.current_url)"
   ]
  },
  {
   "cell_type": "code",
   "execution_count": 68,
   "metadata": {},
   "outputs": [],
   "source": [
    "data_table=page_content[1].iloc[53:,:2]"
   ]
  },
  {
   "cell_type": "code",
   "execution_count": 69,
   "metadata": {
    "scrolled": true
   },
   "outputs": [
    {
     "data": {
      "text/html": [
       "<div>\n",
       "<style>\n",
       "    .dataframe thead tr:only-child th {\n",
       "        text-align: right;\n",
       "    }\n",
       "\n",
       "    .dataframe thead th {\n",
       "        text-align: left;\n",
       "    }\n",
       "\n",
       "    .dataframe tbody tr th {\n",
       "        vertical-align: top;\n",
       "    }\n",
       "</style>\n",
       "<table border=\"1\" class=\"dataframe\">\n",
       "  <thead>\n",
       "    <tr style=\"text-align: right;\">\n",
       "      <th></th>\n",
       "      <th>0</th>\n",
       "      <th>1</th>\n",
       "    </tr>\n",
       "  </thead>\n",
       "  <tbody>\n",
       "    <tr>\n",
       "      <th>53</th>\n",
       "      <td>Date</td>\n",
       "      <td>NAV</td>\n",
       "    </tr>\n",
       "    <tr>\n",
       "      <th>54</th>\n",
       "      <td>01/04/2016</td>\n",
       "      <td>$31.88</td>\n",
       "    </tr>\n",
       "    <tr>\n",
       "      <th>55</th>\n",
       "      <td>01/05/2016</td>\n",
       "      <td>$31.90</td>\n",
       "    </tr>\n",
       "    <tr>\n",
       "      <th>56</th>\n",
       "      <td>01/06/2016</td>\n",
       "      <td>$31.48</td>\n",
       "    </tr>\n",
       "    <tr>\n",
       "      <th>57</th>\n",
       "      <td>01/07/2016</td>\n",
       "      <td>$30.45</td>\n",
       "    </tr>\n",
       "    <tr>\n",
       "      <th>58</th>\n",
       "      <td>01/08/2016</td>\n",
       "      <td>$30.38</td>\n",
       "    </tr>\n",
       "    <tr>\n",
       "      <th>59</th>\n",
       "      <td>01/11/2016</td>\n",
       "      <td>$29.93</td>\n",
       "    </tr>\n",
       "    <tr>\n",
       "      <th>60</th>\n",
       "      <td>01/12/2016</td>\n",
       "      <td>$30.05</td>\n",
       "    </tr>\n",
       "    <tr>\n",
       "      <th>61</th>\n",
       "      <td>01/13/2016</td>\n",
       "      <td>$29.76</td>\n",
       "    </tr>\n",
       "    <tr>\n",
       "      <th>62</th>\n",
       "      <td>01/14/2016</td>\n",
       "      <td>$30.10</td>\n",
       "    </tr>\n",
       "    <tr>\n",
       "      <th>63</th>\n",
       "      <td>01/15/2016</td>\n",
       "      <td>$29.07</td>\n",
       "    </tr>\n",
       "    <tr>\n",
       "      <th>64</th>\n",
       "      <td>01/19/2016</td>\n",
       "      <td>$29.32</td>\n",
       "    </tr>\n",
       "    <tr>\n",
       "      <th>65</th>\n",
       "      <td>01/20/2016</td>\n",
       "      <td>$28.71</td>\n",
       "    </tr>\n",
       "    <tr>\n",
       "      <th>66</th>\n",
       "      <td>01/21/2016</td>\n",
       "      <td>$28.52</td>\n",
       "    </tr>\n",
       "    <tr>\n",
       "      <th>67</th>\n",
       "      <td>01/22/2016</td>\n",
       "      <td>$29.45</td>\n",
       "    </tr>\n",
       "    <tr>\n",
       "      <th>68</th>\n",
       "      <td>01/25/2016</td>\n",
       "      <td>$29.27</td>\n",
       "    </tr>\n",
       "    <tr>\n",
       "      <th>69</th>\n",
       "      <td>01/26/2016</td>\n",
       "      <td>$29.43</td>\n",
       "    </tr>\n",
       "    <tr>\n",
       "      <th>70</th>\n",
       "      <td>01/27/2016</td>\n",
       "      <td>$29.39</td>\n",
       "    </tr>\n",
       "    <tr>\n",
       "      <th>71</th>\n",
       "      <td>01/28/2016</td>\n",
       "      <td>$29.76</td>\n",
       "    </tr>\n",
       "    <tr>\n",
       "      <th>72</th>\n",
       "      <td>01/29/2016</td>\n",
       "      <td>$30.89</td>\n",
       "    </tr>\n",
       "    <tr>\n",
       "      <th>73</th>\n",
       "      <td>02/01/2016</td>\n",
       "      <td>$30.70</td>\n",
       "    </tr>\n",
       "    <tr>\n",
       "      <th>74</th>\n",
       "      <td>02/02/2016</td>\n",
       "      <td>$29.94</td>\n",
       "    </tr>\n",
       "    <tr>\n",
       "      <th>75</th>\n",
       "      <td>02/03/2016</td>\n",
       "      <td>$30.09</td>\n",
       "    </tr>\n",
       "    <tr>\n",
       "      <th>76</th>\n",
       "      <td>02/04/2016</td>\n",
       "      <td>$30.59</td>\n",
       "    </tr>\n",
       "    <tr>\n",
       "      <th>77</th>\n",
       "      <td>02/05/2016</td>\n",
       "      <td>$30.44</td>\n",
       "    </tr>\n",
       "    <tr>\n",
       "      <th>78</th>\n",
       "      <td>02/08/2016</td>\n",
       "      <td>$30.07</td>\n",
       "    </tr>\n",
       "    <tr>\n",
       "      <th>79</th>\n",
       "      <td>02/09/2016</td>\n",
       "      <td>$29.78</td>\n",
       "    </tr>\n",
       "    <tr>\n",
       "      <th>80</th>\n",
       "      <td>02/10/2016</td>\n",
       "      <td>$29.82</td>\n",
       "    </tr>\n",
       "    <tr>\n",
       "      <th>81</th>\n",
       "      <td>02/11/2016</td>\n",
       "      <td>$29.30</td>\n",
       "    </tr>\n",
       "    <tr>\n",
       "      <th>82</th>\n",
       "      <td>02/12/2016</td>\n",
       "      <td>$29.60</td>\n",
       "    </tr>\n",
       "    <tr>\n",
       "      <th>...</th>\n",
       "      <td>...</td>\n",
       "      <td>...</td>\n",
       "    </tr>\n",
       "    <tr>\n",
       "      <th>276</th>\n",
       "      <td>11/17/2016</td>\n",
       "      <td>$35.43</td>\n",
       "    </tr>\n",
       "    <tr>\n",
       "      <th>277</th>\n",
       "      <td>11/18/2016</td>\n",
       "      <td>$35.35</td>\n",
       "    </tr>\n",
       "    <tr>\n",
       "      <th>278</th>\n",
       "      <td>11/21/2016</td>\n",
       "      <td>$35.60</td>\n",
       "    </tr>\n",
       "    <tr>\n",
       "      <th>279</th>\n",
       "      <td>11/22/2016</td>\n",
       "      <td>$35.94</td>\n",
       "    </tr>\n",
       "    <tr>\n",
       "      <th>280</th>\n",
       "      <td>11/23/2016</td>\n",
       "      <td>$35.82</td>\n",
       "    </tr>\n",
       "    <tr>\n",
       "      <th>281</th>\n",
       "      <td>11/25/2016</td>\n",
       "      <td>$35.85</td>\n",
       "    </tr>\n",
       "    <tr>\n",
       "      <th>282</th>\n",
       "      <td>11/28/2016</td>\n",
       "      <td>$36.09</td>\n",
       "    </tr>\n",
       "    <tr>\n",
       "      <th>283</th>\n",
       "      <td>11/29/2016</td>\n",
       "      <td>$35.95</td>\n",
       "    </tr>\n",
       "    <tr>\n",
       "      <th>284</th>\n",
       "      <td>11/30/2016</td>\n",
       "      <td>$36.03</td>\n",
       "    </tr>\n",
       "    <tr>\n",
       "      <th>285</th>\n",
       "      <td>12/01/2016</td>\n",
       "      <td>$35.81</td>\n",
       "    </tr>\n",
       "    <tr>\n",
       "      <th>286</th>\n",
       "      <td>12/02/2016</td>\n",
       "      <td>$35.75</td>\n",
       "    </tr>\n",
       "    <tr>\n",
       "      <th>287</th>\n",
       "      <td>12/05/2016</td>\n",
       "      <td>$35.86</td>\n",
       "    </tr>\n",
       "    <tr>\n",
       "      <th>288</th>\n",
       "      <td>12/06/2016</td>\n",
       "      <td>$36.11</td>\n",
       "    </tr>\n",
       "    <tr>\n",
       "      <th>289</th>\n",
       "      <td>12/07/2016</td>\n",
       "      <td>$36.53</td>\n",
       "    </tr>\n",
       "    <tr>\n",
       "      <th>290</th>\n",
       "      <td>12/08/2016</td>\n",
       "      <td>$36.70</td>\n",
       "    </tr>\n",
       "    <tr>\n",
       "      <th>291</th>\n",
       "      <td>12/09/2016</td>\n",
       "      <td>$36.65</td>\n",
       "    </tr>\n",
       "    <tr>\n",
       "      <th>292</th>\n",
       "      <td>12/12/2016</td>\n",
       "      <td>$36.31</td>\n",
       "    </tr>\n",
       "    <tr>\n",
       "      <th>293</th>\n",
       "      <td>12/13/2016</td>\n",
       "      <td>$36.62</td>\n",
       "    </tr>\n",
       "    <tr>\n",
       "      <th>294</th>\n",
       "      <td>12/14/2016</td>\n",
       "      <td>$35.96</td>\n",
       "    </tr>\n",
       "    <tr>\n",
       "      <th>295</th>\n",
       "      <td>12/15/2016</td>\n",
       "      <td>$35.86</td>\n",
       "    </tr>\n",
       "    <tr>\n",
       "      <th>296</th>\n",
       "      <td>12/16/2016</td>\n",
       "      <td>$35.66</td>\n",
       "    </tr>\n",
       "    <tr>\n",
       "      <th>297</th>\n",
       "      <td>12/19/2016</td>\n",
       "      <td>$35.45</td>\n",
       "    </tr>\n",
       "    <tr>\n",
       "      <th>298</th>\n",
       "      <td>12/20/2016</td>\n",
       "      <td>$35.30</td>\n",
       "    </tr>\n",
       "    <tr>\n",
       "      <th>299</th>\n",
       "      <td>12/21/2016</td>\n",
       "      <td>$35.27</td>\n",
       "    </tr>\n",
       "    <tr>\n",
       "      <th>300</th>\n",
       "      <td>12/22/2016</td>\n",
       "      <td>$35.01</td>\n",
       "    </tr>\n",
       "    <tr>\n",
       "      <th>301</th>\n",
       "      <td>12/23/2016</td>\n",
       "      <td>$34.99</td>\n",
       "    </tr>\n",
       "    <tr>\n",
       "      <th>302</th>\n",
       "      <td>12/27/2016</td>\n",
       "      <td>$35.11</td>\n",
       "    </tr>\n",
       "    <tr>\n",
       "      <th>303</th>\n",
       "      <td>12/28/2016</td>\n",
       "      <td>$35.31</td>\n",
       "    </tr>\n",
       "    <tr>\n",
       "      <th>304</th>\n",
       "      <td>12/29/2016</td>\n",
       "      <td>$35.75</td>\n",
       "    </tr>\n",
       "    <tr>\n",
       "      <th>305</th>\n",
       "      <td>12/30/2016</td>\n",
       "      <td>$35.80</td>\n",
       "    </tr>\n",
       "  </tbody>\n",
       "</table>\n",
       "<p>253 rows × 2 columns</p>\n",
       "</div>"
      ],
      "text/plain": [
       "              0       1\n",
       "53         Date     NAV\n",
       "54   01/04/2016  $31.88\n",
       "55   01/05/2016  $31.90\n",
       "56   01/06/2016  $31.48\n",
       "57   01/07/2016  $30.45\n",
       "58   01/08/2016  $30.38\n",
       "59   01/11/2016  $29.93\n",
       "60   01/12/2016  $30.05\n",
       "61   01/13/2016  $29.76\n",
       "62   01/14/2016  $30.10\n",
       "63   01/15/2016  $29.07\n",
       "64   01/19/2016  $29.32\n",
       "65   01/20/2016  $28.71\n",
       "66   01/21/2016  $28.52\n",
       "67   01/22/2016  $29.45\n",
       "68   01/25/2016  $29.27\n",
       "69   01/26/2016  $29.43\n",
       "70   01/27/2016  $29.39\n",
       "71   01/28/2016  $29.76\n",
       "72   01/29/2016  $30.89\n",
       "73   02/01/2016  $30.70\n",
       "74   02/02/2016  $29.94\n",
       "75   02/03/2016  $30.09\n",
       "76   02/04/2016  $30.59\n",
       "77   02/05/2016  $30.44\n",
       "78   02/08/2016  $30.07\n",
       "79   02/09/2016  $29.78\n",
       "80   02/10/2016  $29.82\n",
       "81   02/11/2016  $29.30\n",
       "82   02/12/2016  $29.60\n",
       "..          ...     ...\n",
       "276  11/17/2016  $35.43\n",
       "277  11/18/2016  $35.35\n",
       "278  11/21/2016  $35.60\n",
       "279  11/22/2016  $35.94\n",
       "280  11/23/2016  $35.82\n",
       "281  11/25/2016  $35.85\n",
       "282  11/28/2016  $36.09\n",
       "283  11/29/2016  $35.95\n",
       "284  11/30/2016  $36.03\n",
       "285  12/01/2016  $35.81\n",
       "286  12/02/2016  $35.75\n",
       "287  12/05/2016  $35.86\n",
       "288  12/06/2016  $36.11\n",
       "289  12/07/2016  $36.53\n",
       "290  12/08/2016  $36.70\n",
       "291  12/09/2016  $36.65\n",
       "292  12/12/2016  $36.31\n",
       "293  12/13/2016  $36.62\n",
       "294  12/14/2016  $35.96\n",
       "295  12/15/2016  $35.86\n",
       "296  12/16/2016  $35.66\n",
       "297  12/19/2016  $35.45\n",
       "298  12/20/2016  $35.30\n",
       "299  12/21/2016  $35.27\n",
       "300  12/22/2016  $35.01\n",
       "301  12/23/2016  $34.99\n",
       "302  12/27/2016  $35.11\n",
       "303  12/28/2016  $35.31\n",
       "304  12/29/2016  $35.75\n",
       "305  12/30/2016  $35.80\n",
       "\n",
       "[253 rows x 2 columns]"
      ]
     },
     "execution_count": 69,
     "metadata": {},
     "output_type": "execute_result"
    }
   ],
   "source": [
    "data_table"
   ]
  },
  {
   "cell_type": "code",
   "execution_count": 14,
   "metadata": {},
   "outputs": [
    {
     "name": "stderr",
     "output_type": "stream",
     "text": [
      "/anaconda/lib/python3.6/site-packages/ipykernel_launcher.py:4: DeprecationWarning: use options instead of chrome_options\n",
      "  after removing the cwd from sys.path.\n"
     ]
    }
   ],
   "source": [
    "#proshares\n",
    "options = webdriver.ChromeOptions()\n",
    "prefs = {'profile.default_content_settings.popups': 0, 'download.default_directory': '/Users/shayumin/Documents/文字探勘/homework1'}\n",
    "options.add_experimental_option('prefs', prefs)\n",
    "driver = webdriver.Chrome(chrome_options=options)\n",
    "driver.get(url_homepage)\n",
    "driver.find_element_by_link_text(\"NAV History\").click()\n",
    "time.sleep(3)\n",
    "driver.quit()\n",
    "testdir = '/Users/shayumin/Documents/文字探勘/homework1/data'\n",
    "list = os.listdir(testdir)\n",
    "list.sort(key=lambda fn:os.path.getmtime(testdir+'/'+fn))\n",
    "filename=all_ETF[6]+'.csv'\n",
    "os.rename(os.path.join(testdir,list[-1]),os.path.join(testdir,filename))"
   ]
  },
  {
   "cell_type": "code",
   "execution_count": 53,
   "metadata": {},
   "outputs": [],
   "source": [
    "#spdrs\n",
    "def download_spdrs(i,url_homepage):\n",
    "    domain_url = \"https://us.spdrs.com/\"\n",
    "    excel_file= domain_url+\"site-content/xls/\"+all_ETF[9]+\"_HistoricalNav.xls?fund=\"+all_ETF[9]+\"&amp;docname=Most+Recent+NAV+%2F+NAV+History&amp;onyx_code1=&amp;onyx_code2=\"\n",
    "    excel_file\n",
    "    file_name=\"data/\"+all_ETF[9]+\".xls\"\n",
    "    urllib.request.urlretrieve(excel_file, file_name)\n",
    "    file=pd.read_excel(file_name,index_col=0,header=2,parse_dates=True).dropna(axis=1,how=\"all\")[:-12]\n",
    "    file.index=pd.to_datetime(file.index)\n",
    "    Nav=file[\"Nav\"].loc[last_day_of_month]\n",
    "    return(Nav)"
   ]
  },
  {
   "cell_type": "code",
   "execution_count": 54,
   "metadata": {
    "scrolled": true
   },
   "outputs": [
    {
     "data": {
      "text/plain": [
       "Date\n",
       "2016-01-29     63.970229\n",
       "2016-02-29     62.850186\n",
       "2016-03-31     69.972327\n",
       "2016-04-29     69.901049\n",
       "2016-05-31     69.180315\n",
       "2016-06-30     69.573973\n",
       "2016-07-29     71.731583\n",
       "2016-08-31     77.079045\n",
       "2016-09-30     78.847353\n",
       "2016-10-31     77.367867\n",
       "2016-11-30     76.766403\n",
       "2016-12-30     72.733575\n",
       "2017-01-31     77.501888\n",
       "2017-02-28     80.460620\n",
       "2017-03-31     81.953015\n",
       "2017-04-28     83.737059\n",
       "2017-05-31     87.703759\n",
       "2017-06-30     89.357555\n",
       "2017-07-31     96.852959\n",
       "2017-08-31    100.574283\n",
       "2017-09-29    101.905025\n",
       "2017-10-31    105.652181\n",
       "2017-11-30    106.644132\n",
       "2017-12-29    107.374458\n",
       "2018-01-31    120.650558\n",
       "2018-02-28    113.057269\n",
       "2018-03-30           NaN\n",
       "2018-04-30    109.602897\n",
       "2018-05-31    111.551643\n",
       "2018-06-29    105.071446\n",
       "2018-07-31    102.602652\n",
       "2018-08-31     98.625406\n",
       "2018-09-28     97.158569\n",
       "2018-10-31     86.212438\n",
       "2018-11-30     92.471344\n",
       "2018-12-31     85.711104\n",
       "Name: Nav, dtype: float64"
      ]
     },
     "execution_count": 54,
     "metadata": {},
     "output_type": "execute_result"
    }
   ],
   "source": [
    "download_spdrs(9,url_homepage)"
   ]
  },
  {
   "cell_type": "code",
   "execution_count": 31,
   "metadata": {
    "collapsed": true,
    "scrolled": true
   },
   "outputs": [],
   "source": [
    "#wisdomtree\n",
    "url=\"https://etfdb.com/etf/\"+all_ETF[13]\n",
    "resp = requests.get(url)\n",
    "soup = BeautifulSoup(resp.text, 'html.parser')\n",
    "span=soup.find_all(\"a\",text='Home page')\n",
    "url_homepage=span[0].get(\"href\")\n",
    "resp = requests.get(url_homepage)\n",
    "soup = BeautifulSoup(resp.text, 'html.parser')\n",
    "link_address=soup.find_all(\"a\",{\"class\":\"text-link fund-modal-trigger\"})[0].get(\"data-href\")\n",
    "data=pd.read_html(link_address,index_col=0,parse_dates=True)"
   ]
  },
  {
   "cell_type": "code",
   "execution_count": 47,
   "metadata": {},
   "outputs": [
    {
     "data": {
      "text/plain": [
       "'http://www.wisdomtree.com'"
      ]
     },
     "execution_count": 47,
     "metadata": {},
     "output_type": "execute_result"
    }
   ],
   "source": [
    "url_homepage[:25]"
   ]
  },
  {
   "cell_type": "code",
   "execution_count": 9,
   "metadata": {
    "scrolled": true
   },
   "outputs": [
    {
     "name": "stderr",
     "output_type": "stream",
     "text": [
      "/anaconda/lib/python3.6/site-packages/ipykernel_launcher.py:9: DeprecationWarning: use options instead of chrome_options\n",
      "  if __name__ == '__main__':\n"
     ]
    },
    {
     "ename": "NoSuchElementException",
     "evalue": "Message: no such element: Unable to locate element: {\"method\":\"link text\",\"selector\":\"Documents\"}\n  (Session info: chrome=72.0.3626.121)\n  (Driver info: chromedriver=2.46.628411 (3324f4c8be9ff2f70a05a30ebc72ffb013e1a71e),platform=Mac OS X 10.13.6 x86_64)\n",
     "output_type": "error",
     "traceback": [
      "\u001b[0;31m---------------------------------------------------------------------------\u001b[0m",
      "\u001b[0;31mNoSuchElementException\u001b[0m                    Traceback (most recent call last)",
      "\u001b[0;32m<ipython-input-9-6898dc2f90dc>\u001b[0m in \u001b[0;36m<module>\u001b[0;34m()\u001b[0m\n\u001b[1;32m     17\u001b[0m     \u001b[0mtime\u001b[0m\u001b[0;34m.\u001b[0m\u001b[0msleep\u001b[0m\u001b[0;34m(\u001b[0m\u001b[0;36m1\u001b[0m\u001b[0;34m)\u001b[0m\u001b[0;34m\u001b[0m\u001b[0;34m\u001b[0m\u001b[0m\n\u001b[1;32m     18\u001b[0m \u001b[0mtime\u001b[0m\u001b[0;34m.\u001b[0m\u001b[0msleep\u001b[0m\u001b[0;34m(\u001b[0m\u001b[0;36m3\u001b[0m\u001b[0;34m)\u001b[0m\u001b[0;34m\u001b[0m\u001b[0;34m\u001b[0m\u001b[0m\n\u001b[0;32m---> 19\u001b[0;31m \u001b[0mdriver\u001b[0m\u001b[0;34m.\u001b[0m\u001b[0mfind_element_by_link_text\u001b[0m\u001b[0;34m(\u001b[0m\u001b[0;34m\"Documents\"\u001b[0m\u001b[0;34m)\u001b[0m\u001b[0;34m.\u001b[0m\u001b[0mclick\u001b[0m\u001b[0;34m(\u001b[0m\u001b[0;34m)\u001b[0m\u001b[0;34m\u001b[0m\u001b[0;34m\u001b[0m\u001b[0m\n\u001b[0m",
      "\u001b[0;32m/anaconda/lib/python3.6/site-packages/selenium/webdriver/remote/webdriver.py\u001b[0m in \u001b[0;36mfind_element_by_link_text\u001b[0;34m(self, link_text)\u001b[0m\n\u001b[1;32m    426\u001b[0m             \u001b[0melement\u001b[0m \u001b[0;34m=\u001b[0m \u001b[0mdriver\u001b[0m\u001b[0;34m.\u001b[0m\u001b[0mfind_element_by_link_text\u001b[0m\u001b[0;34m(\u001b[0m\u001b[0;34m'Sign In'\u001b[0m\u001b[0;34m)\u001b[0m\u001b[0;34m\u001b[0m\u001b[0;34m\u001b[0m\u001b[0m\n\u001b[1;32m    427\u001b[0m         \"\"\"\n\u001b[0;32m--> 428\u001b[0;31m         \u001b[0;32mreturn\u001b[0m \u001b[0mself\u001b[0m\u001b[0;34m.\u001b[0m\u001b[0mfind_element\u001b[0m\u001b[0;34m(\u001b[0m\u001b[0mby\u001b[0m\u001b[0;34m=\u001b[0m\u001b[0mBy\u001b[0m\u001b[0;34m.\u001b[0m\u001b[0mLINK_TEXT\u001b[0m\u001b[0;34m,\u001b[0m \u001b[0mvalue\u001b[0m\u001b[0;34m=\u001b[0m\u001b[0mlink_text\u001b[0m\u001b[0;34m)\u001b[0m\u001b[0;34m\u001b[0m\u001b[0;34m\u001b[0m\u001b[0m\n\u001b[0m\u001b[1;32m    429\u001b[0m \u001b[0;34m\u001b[0m\u001b[0m\n\u001b[1;32m    430\u001b[0m     \u001b[0;32mdef\u001b[0m \u001b[0mfind_elements_by_link_text\u001b[0m\u001b[0;34m(\u001b[0m\u001b[0mself\u001b[0m\u001b[0;34m,\u001b[0m \u001b[0mtext\u001b[0m\u001b[0;34m)\u001b[0m\u001b[0;34m:\u001b[0m\u001b[0;34m\u001b[0m\u001b[0;34m\u001b[0m\u001b[0m\n",
      "\u001b[0;32m/anaconda/lib/python3.6/site-packages/selenium/webdriver/remote/webdriver.py\u001b[0m in \u001b[0;36mfind_element\u001b[0;34m(self, by, value)\u001b[0m\n\u001b[1;32m    976\u001b[0m         return self.execute(Command.FIND_ELEMENT, {\n\u001b[1;32m    977\u001b[0m             \u001b[0;34m'using'\u001b[0m\u001b[0;34m:\u001b[0m \u001b[0mby\u001b[0m\u001b[0;34m,\u001b[0m\u001b[0;34m\u001b[0m\u001b[0;34m\u001b[0m\u001b[0m\n\u001b[0;32m--> 978\u001b[0;31m             'value': value})['value']\n\u001b[0m\u001b[1;32m    979\u001b[0m \u001b[0;34m\u001b[0m\u001b[0m\n\u001b[1;32m    980\u001b[0m     \u001b[0;32mdef\u001b[0m \u001b[0mfind_elements\u001b[0m\u001b[0;34m(\u001b[0m\u001b[0mself\u001b[0m\u001b[0;34m,\u001b[0m \u001b[0mby\u001b[0m\u001b[0;34m=\u001b[0m\u001b[0mBy\u001b[0m\u001b[0;34m.\u001b[0m\u001b[0mID\u001b[0m\u001b[0;34m,\u001b[0m \u001b[0mvalue\u001b[0m\u001b[0;34m=\u001b[0m\u001b[0;32mNone\u001b[0m\u001b[0;34m)\u001b[0m\u001b[0;34m:\u001b[0m\u001b[0;34m\u001b[0m\u001b[0;34m\u001b[0m\u001b[0m\n",
      "\u001b[0;32m/anaconda/lib/python3.6/site-packages/selenium/webdriver/remote/webdriver.py\u001b[0m in \u001b[0;36mexecute\u001b[0;34m(self, driver_command, params)\u001b[0m\n\u001b[1;32m    319\u001b[0m         \u001b[0mresponse\u001b[0m \u001b[0;34m=\u001b[0m \u001b[0mself\u001b[0m\u001b[0;34m.\u001b[0m\u001b[0mcommand_executor\u001b[0m\u001b[0;34m.\u001b[0m\u001b[0mexecute\u001b[0m\u001b[0;34m(\u001b[0m\u001b[0mdriver_command\u001b[0m\u001b[0;34m,\u001b[0m \u001b[0mparams\u001b[0m\u001b[0;34m)\u001b[0m\u001b[0;34m\u001b[0m\u001b[0;34m\u001b[0m\u001b[0m\n\u001b[1;32m    320\u001b[0m         \u001b[0;32mif\u001b[0m \u001b[0mresponse\u001b[0m\u001b[0;34m:\u001b[0m\u001b[0;34m\u001b[0m\u001b[0;34m\u001b[0m\u001b[0m\n\u001b[0;32m--> 321\u001b[0;31m             \u001b[0mself\u001b[0m\u001b[0;34m.\u001b[0m\u001b[0merror_handler\u001b[0m\u001b[0;34m.\u001b[0m\u001b[0mcheck_response\u001b[0m\u001b[0;34m(\u001b[0m\u001b[0mresponse\u001b[0m\u001b[0;34m)\u001b[0m\u001b[0;34m\u001b[0m\u001b[0;34m\u001b[0m\u001b[0m\n\u001b[0m\u001b[1;32m    322\u001b[0m             response['value'] = self._unwrap_value(\n\u001b[1;32m    323\u001b[0m                 response.get('value', None))\n",
      "\u001b[0;32m/anaconda/lib/python3.6/site-packages/selenium/webdriver/remote/errorhandler.py\u001b[0m in \u001b[0;36mcheck_response\u001b[0;34m(self, response)\u001b[0m\n\u001b[1;32m    240\u001b[0m                 \u001b[0malert_text\u001b[0m \u001b[0;34m=\u001b[0m \u001b[0mvalue\u001b[0m\u001b[0;34m[\u001b[0m\u001b[0;34m'alert'\u001b[0m\u001b[0;34m]\u001b[0m\u001b[0;34m.\u001b[0m\u001b[0mget\u001b[0m\u001b[0;34m(\u001b[0m\u001b[0;34m'text'\u001b[0m\u001b[0;34m)\u001b[0m\u001b[0;34m\u001b[0m\u001b[0;34m\u001b[0m\u001b[0m\n\u001b[1;32m    241\u001b[0m             \u001b[0;32mraise\u001b[0m \u001b[0mexception_class\u001b[0m\u001b[0;34m(\u001b[0m\u001b[0mmessage\u001b[0m\u001b[0;34m,\u001b[0m \u001b[0mscreen\u001b[0m\u001b[0;34m,\u001b[0m \u001b[0mstacktrace\u001b[0m\u001b[0;34m,\u001b[0m \u001b[0malert_text\u001b[0m\u001b[0;34m)\u001b[0m\u001b[0;34m\u001b[0m\u001b[0;34m\u001b[0m\u001b[0m\n\u001b[0;32m--> 242\u001b[0;31m         \u001b[0;32mraise\u001b[0m \u001b[0mexception_class\u001b[0m\u001b[0;34m(\u001b[0m\u001b[0mmessage\u001b[0m\u001b[0;34m,\u001b[0m \u001b[0mscreen\u001b[0m\u001b[0;34m,\u001b[0m \u001b[0mstacktrace\u001b[0m\u001b[0;34m)\u001b[0m\u001b[0;34m\u001b[0m\u001b[0;34m\u001b[0m\u001b[0m\n\u001b[0m\u001b[1;32m    243\u001b[0m \u001b[0;34m\u001b[0m\u001b[0m\n\u001b[1;32m    244\u001b[0m     \u001b[0;32mdef\u001b[0m \u001b[0m_value_or_default\u001b[0m\u001b[0;34m(\u001b[0m\u001b[0mself\u001b[0m\u001b[0;34m,\u001b[0m \u001b[0mobj\u001b[0m\u001b[0;34m,\u001b[0m \u001b[0mkey\u001b[0m\u001b[0;34m,\u001b[0m \u001b[0mdefault\u001b[0m\u001b[0;34m)\u001b[0m\u001b[0;34m:\u001b[0m\u001b[0;34m\u001b[0m\u001b[0;34m\u001b[0m\u001b[0m\n",
      "\u001b[0;31mNoSuchElementException\u001b[0m: Message: no such element: Unable to locate element: {\"method\":\"link text\",\"selector\":\"Documents\"}\n  (Session info: chrome=72.0.3626.121)\n  (Driver info: chromedriver=2.46.628411 (3324f4c8be9ff2f70a05a30ebc72ffb013e1a71e),platform=Mac OS X 10.13.6 x86_64)\n"
     ]
    }
   ],
   "source": [
    "#vaneck\n",
    "url=\"https://etfdb.com/etf/\"+all_ETF[25]\n",
    "resp = requests.get(url)\n",
    "soup = BeautifulSoup(resp.text, 'html.parser')\n",
    "span=soup.find_all(\"a\",text='Home page')\n",
    "url_homepage=span[0].get(\"href\")\n",
    "options = webdriver.ChromeOptions()\n",
    "prefs = {'profile.default_content_settings.popups': 0, 'download.default_directory': '/Users/shayumin/Documents/文字探勘/homework1'}\n",
    "options.add_experimental_option('prefs', prefs)\n",
    "driver = webdriver.Chrome(chrome_options=options)\n",
    "url_link=\"https://www.vaneck.com/etf/equity/idx/documents/\"\n",
    "driver.get(url_homepage)\n",
    "try:\n",
    "    time.sleep(1)\n",
    "    driver.find_element_by_link_text(\"Individual Investor\").click()\n",
    "    driver.find_element_by_link_text(\"I agree\").click()\n",
    "except:\n",
    "    time.sleep(1)\n",
    "time.sleep(3)\n",
    "driver.find_element_by_link_text(\"Documents\").click()"
   ]
  },
  {
   "cell_type": "code",
   "execution_count": 5,
   "metadata": {
    "collapsed": true
   },
   "outputs": [],
   "source": [
    "url_homepage=get_homepage(41)"
   ]
  },
  {
   "cell_type": "code",
   "execution_count": 51,
   "metadata": {
    "collapsed": true
   },
   "outputs": [],
   "source": [
    "#emerging\n",
    "def download_emerging(i,url_homepage):\n",
    "    options = webdriver.ChromeOptions()\n",
    "    prefs = {'profile.default_content_settings.popups': 0, 'download.default_directory': '/Users/shayumin/Documents/文字探勘/homework1/data'}\n",
    "    options.add_experimental_option('prefs', prefs)\n",
    "    driver = webdriver.Chrome(chrome_options=options)\n",
    "    driver.get(url_homepage)\n",
    "    driver.find_element_by_link_text(\"Download NAV/Premium Discount\").click()\n",
    "    time.sleep(40)\n",
    "    driver.quit()\n",
    "    testdir = '/Users/shayumin/Documents/文字探勘/homework1/data'\n",
    "    list = os.listdir(testdir)\n",
    "    list.sort(key=lambda fn:os.path.getmtime(testdir+'/'+fn))\n",
    "    file_name=all_ETF[i]+\".xls\"\n",
    "    os.rename(os.path.join(testdir,list[-1]),os.path.join(testdir,file_name))\n",
    "    path=\"data/\"+file_name\n",
    "    day_NAV=pd.read_excel(path,index_col=0,header=4,parse_dates=True).loc[last_day_of_month]\n",
    "    NAV=day_NAV[day_NAV[\"Fund Symbol\"]==all_ETF[i]][\"NAV\"]\n",
    "    return NAV"
   ]
  },
  {
   "cell_type": "code",
   "execution_count": 81,
   "metadata": {},
   "outputs": [
    {
     "name": "stderr",
     "output_type": "stream",
     "text": [
      "/anaconda/lib/python3.6/site-packages/ipykernel_launcher.py:6: DeprecationWarning: use options instead of chrome_options\n",
      "  \n"
     ]
    }
   ],
   "source": [
    "download_emerging(41,url_homepage)"
   ]
  },
  {
   "cell_type": "code",
   "execution_count": 38,
   "metadata": {
    "collapsed": true
   },
   "outputs": [],
   "source": [
    "url_homepage=get_homepage(32)"
   ]
  },
  {
   "cell_type": "code",
   "execution_count": 29,
   "metadata": {},
   "outputs": [
    {
     "data": {
      "text/plain": [
       "'http://www.globalxfunds.com/fund/CHIX/?download_chart_data=true'"
      ]
     },
     "execution_count": 29,
     "metadata": {},
     "output_type": "execute_result"
    }
   ],
   "source": [
    "url_homepage[:-4]+\"fund/\"+url_homepage[-4:]+\"/?download_chart_data=true\""
   ]
  },
  {
   "cell_type": "code",
   "execution_count": 30,
   "metadata": {
    "collapsed": true
   },
   "outputs": [],
   "source": []
  },
  {
   "cell_type": "code",
   "execution_count": 52,
   "metadata": {
    "collapsed": true
   },
   "outputs": [],
   "source": [
    "#globalxfunds\n",
    "def download_globalxfunds(i,url_homepage):\n",
    "    ETF_len=len(all_ETF[i])\n",
    "    download_link=url_homepage[:-ETF_len]+\"fund/\"+url_homepage[-ETF_len:]+\"/?download_chart_data=true\"\n",
    "    file_name=\"data/\"+all_ETF[i]+\".csv\"\n",
    "    urllib.request.urlretrieve(download_link, file_name)\n",
    "    NAV=pd.read_csv(file_name,index_col=0,header=1,parse_dates=True)[\"Closing Price\"].loc[last_day_of_month]\n",
    "    return NAV"
   ]
  },
  {
   "cell_type": "code",
   "execution_count": 53,
   "metadata": {
    "scrolled": true
   },
   "outputs": [
    {
     "data": {
      "text/plain": [
       "Date\n",
       "2016-01-29    11.64\n",
       "2016-02-29    11.16\n",
       "2016-03-31    12.49\n",
       "2016-04-29    12.24\n",
       "2016-05-31    12.11\n",
       "2016-06-30    12.46\n",
       "2016-07-29    12.89\n",
       "2016-08-31    13.88\n",
       "2016-09-30    14.46\n",
       "2016-10-31    13.78\n",
       "2016-11-30    14.15\n",
       "2016-12-30    12.82\n",
       "2017-01-31    13.42\n",
       "2017-02-28     14.3\n",
       "2017-03-31    14.48\n",
       "2017-04-28    14.59\n",
       "2017-05-31    15.34\n",
       "2017-06-30    15.41\n",
       "2017-07-31    16.72\n",
       "2017-08-31    17.38\n",
       "2017-09-29    16.95\n",
       "2017-10-31    17.64\n",
       "2017-11-30    17.82\n",
       "2017-12-29    18.01\n",
       "2018-01-31    20.51\n",
       "2018-02-28    18.54\n",
       "2018-03-30      NaN\n",
       "2018-04-30    18.47\n",
       "2018-05-31    18.08\n",
       "2018-06-29    16.84\n",
       "2018-07-31    17.32\n",
       "2018-08-31    16.86\n",
       "2018-09-28    16.99\n",
       "2018-10-31    15.36\n",
       "2018-11-30    16.45\n",
       "2018-12-31    14.59\n",
       "Name: Closing Price, dtype: object"
      ]
     },
     "execution_count": 53,
     "metadata": {},
     "output_type": "execute_result"
    }
   ],
   "source": [
    "download_globalxfunds(32,url_homepage)"
   ]
  },
  {
   "cell_type": "code",
   "execution_count": 61,
   "metadata": {},
   "outputs": [
    {
     "data": {
      "text/plain": [
       "'http://www.globalxfunds'"
      ]
     },
     "execution_count": 61,
     "metadata": {},
     "output_type": "execute_result"
    }
   ],
   "source": [
    "url_homepage[:23]"
   ]
  },
  {
   "cell_type": "code",
   "execution_count": null,
   "metadata": {
    "collapsed": true
   },
   "outputs": [],
   "source": []
  }
 ],
 "metadata": {
  "kernelspec": {
   "display_name": "Python 3",
   "language": "python",
   "name": "python3"
  },
  "language_info": {
   "codemirror_mode": {
    "name": "ipython",
    "version": 3
   },
   "file_extension": ".py",
   "mimetype": "text/x-python",
   "name": "python",
   "nbconvert_exporter": "python",
   "pygments_lexer": "ipython3",
   "version": "3.6.7"
  }
 },
 "nbformat": 4,
 "nbformat_minor": 2
}
