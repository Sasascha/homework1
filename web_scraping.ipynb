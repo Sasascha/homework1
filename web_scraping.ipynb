{
 "cells": [
  {
   "cell_type": "code",
   "execution_count": 3,
   "metadata": {
    "collapsed": true
   },
   "outputs": [],
   "source": [
    "import pandas as pd\n",
    "import numpy as np\n",
    "import requests \n",
    "from bs4 import BeautifulSoup\n",
    "import urllib.request\n",
    "import os\n",
    "from selenium import webdriver\n",
    "import datetime as dt\n",
    "import time\n",
    "import calendar\n",
    "def get_homepage(i):\n",
    "    url=\"https://etfdb.com/etf/\"+all_ETF[i]\n",
    "    resp = requests.get(url)\n",
    "    soup = BeautifulSoup(resp.text, 'html.parser')\n",
    "    span=soup.find_all(\"a\",text='Home page')\n",
    "    url_homepage=span[0].get(\"href\")\n",
    "    return url_homepage\n",
    "def get_the_last_day_of_month(start_date,end_date):\n",
    "    ans = []\n",
    "    temp = start_date - dt.timedelta(1)\n",
    "    year = start_date.year\n",
    "    month = start_date.month\n",
    "    while (temp < end_date):\n",
    "        temp = temp + dt.timedelta(calendar.monthrange(year,month)[1])\n",
    "        ans.append(temp)\n",
    "        month += 1\n",
    "        if(month > 12):\n",
    "            month = 1\n",
    "            year += 1\n",
    "    return ans\n",
    "last_day_of_month = get_the_last_day_of_month(dt.datetime(2016,1,1,0,0),dt.datetime(2018,12,31,0,0))"
   ]
  },
  {
   "cell_type": "code",
   "execution_count": 48,
   "metadata": {},
   "outputs": [],
   "source": [
    "for i in range(len(last_day_of_month)):\n",
    "    if last_day_of_month[i].isoweekday()>5:\n",
    "        last_day_of_month[i]=last_day_of_month[i]+dt.timedelta(days=5-last_day_of_month[i].isoweekday())"
   ]
  },
  {
   "cell_type": "code",
   "execution_count": 2,
   "metadata": {
    "collapsed": true
   },
   "outputs": [],
   "source": [
    "#將太晚發行ETF拿掉\n",
    "origin_list=pd.read_excel(\"origin_list.xlsm\",index_col=22,parse_dates=True)\n",
    "need_list=origin_list.sort_index().loc[:\"2016-01-01\"]\n",
    "need_list.to_excel(\"new_list.xlsx\")"
   ]
  },
  {
   "cell_type": "code",
   "execution_count": 4,
   "metadata": {},
   "outputs": [
    {
     "data": {
      "text/plain": [
       "array(['EWM', 'ADRE', 'EEM', 'FXI', 'PGJ', 'VWO', 'EEV', 'EUM', 'SPEM',\n",
       "       'GXC', 'GMF', 'FXP', 'DEM', 'DGS', 'FNI', 'AIA', 'PIE', 'HAO',\n",
       "       'EPI', 'THD', 'PIN', 'AAXJ', 'EWX', 'EDC', 'EDZ', 'IDX', 'EET',\n",
       "       'XPP', 'YINN', 'YANG', 'CQQQ', 'CHIC', 'CHIX', 'YAO', 'VNM', 'INDY',\n",
       "       'CHII', 'CHIQ', 'CHIE', 'YXI', 'EIDO', 'SCIN', 'SCIF', 'ECNS',\n",
       "       'EPHE', 'PEK', 'INDL', 'INXX', 'CHIM', 'ASEA', 'EDIV', 'MCHI',\n",
       "       'FEM', 'FCA', 'DBEM', 'INCO', 'EEMV', 'INDA', 'NFTY', 'FEMS',\n",
       "       'SMIN', 'EEMA', 'CXSE', 'DGRE', 'ASHR', 'KFYP', 'KWEB', 'AXJV',\n",
       "       'KBA', 'CN', 'ASHS', 'CNXT', 'EMQQ', 'XCEM', 'CHAU', 'CHAD', 'EMGF',\n",
       "       'ASHX', 'CNHX', 'XINA', 'KALL', 'AFTY'], dtype=object)"
      ]
     },
     "execution_count": 4,
     "metadata": {},
     "output_type": "execute_result"
    }
   ],
   "source": [
    "need_list=pd.read_excel(\"new_list.xlsx\")\n",
    "all_ETF=need_list[\"Symbol\"].values\n",
    "all_ETF"
   ]
  },
  {
   "cell_type": "code",
   "execution_count": 44,
   "metadata": {
    "scrolled": true
   },
   "outputs": [
    {
     "name": "stdout",
     "output_type": "stream",
     "text": [
      "http://us.ishares.com/product_info/fund/overview/EWM.htm?qt=EWM\n",
      "https://www.invesco.com/portal/site/us/financial-professional/etfs/product-detail?productId=ADRE\n",
      "http://us.ishares.com/product_info/fund/overview/EEM.htm?qt=EEM\n",
      "http://us.ishares.com/product_info/fund/overview/FXI.htm?qt=FXI\n",
      "http://invescopowershares.com/products/overview.aspx?ticker=PGJ\n",
      "https://personal.vanguard.com/us/funds/snapshot?FundId=0964&FundIntExt=INT\n",
      "http://www.proshares.com/funds/eev.html\n",
      "http://www.proshares.com/funds/eum.html\n",
      "https://us.spdrs.com/en/etf/spdr-portfolio-emerging-markets-etf-SPEM\n",
      "https://www.spdrs.com/product/fund.seam?ticker=GXC\n",
      "https://www.spdrs.com/product/fund.seam?ticker=GMF\n",
      "http://www.proshares.com/funds/fxp.html\n",
      "http://www.wisdomtree.com/etfs/fund-details.asp?etfid=50\n",
      "http://www.wisdomtree.com/etfs/fund-details.asp?etfid=53\n",
      "http://www.ftportfolios.com/retail/ETF/ETFsummary.aspx?Ticker=FNI\n",
      "http://us.ishares.com/product_info/fund/overview/AIA.htm?qt=AIA\n",
      "http://invescopowershares.com/products/overview.aspx?ticker=PIE\n",
      "http://www.guggenheimfunds.com/etf/fund/HAO\n",
      "http://www.wisdomtree.com/etfs/fund-details.asp?etfid=51\n",
      "http://us.ishares.com/product_info/fund/overview/THD.htm?qt=THD\n",
      "http://invescopowershares.com/products/overview.aspx?ticker=PIN\n",
      "http://us.ishares.com/product_info/fund/overview/AAXJ.htm?qt=AAXJ\n",
      "https://www.spdrs.com/product/fund.seam?ticker=EWX\n",
      "http://direxionshares.com/etf/embu_bull_3x_shares.html\n",
      "http://direxionshares.com/etf/embe_bear_3x_shares.html\n",
      "http://www.vaneck.com/index.cfm?cat=3192&cGroup=ETF&LN=3-02&tkr=IDX&LN=3_02\n",
      "http://www.proshares.com/funds/eet.html\n",
      "http://www.proshares.com/funds/xpp.html\n",
      "http://www.direxioninvestments.com/products/direxion-daily-china-bull-3x-etf\n",
      "http://www.direxioninvestments.com/products/direxion-daily-china-bull-3x-etf\n",
      "http://guggenheiminvestments.com/products/etf/cqqq\n",
      "CHIC\n",
      "http://www.globalxfunds.com/CHIX\n",
      "http://guggenheiminvestments.com/products/etf/yao\n",
      "http://www.vaneck.com/index.cfm?cat=3192&cGroup=ETF&LN=3-02&tkr=VNM&LN=3_02\n",
      "http://us.ishares.com/product_info/fund/overview/INDY.htm?qt=INDY\n",
      "http://www.globalxfunds.com/CHII\n",
      "http://www.globalxfunds.com/CHIQ\n",
      "http://www.globalxfunds.com/CHIE\n",
      "http://proshares.com/funds/yxi.html\n",
      "http://us.ishares.com/product_info/fund/overview/EIDO.htm?qt=EIDO\n",
      "http://www.emergingglobaladvisors.com/scin.cfm\n",
      "http://vaneck.com/funds/SCIF.aspx\n",
      "http://www.ishares.com/us/products/239620/ishares-msci-china-smallcap-etf?qt=ECNS\n",
      "http://us.ishares.com/product_info/fund/overview/EPHE.htm?qt=EPHE\n",
      "http://vaneck.com/funds/PEK.aspx\n",
      "http://www.direxionshares.com/etf/indiabu_2x_shares.html\n",
      "http://www.emergingglobaladvisors.com/inxx.cfm\n",
      "http://www.globalxfunds.com/CHIM\n",
      "http://www.globalxfunds.com/fundsummary.php?fundid=19401&catid=26\n",
      "https://www.spdrs.com/product/fund.seam?ticker=EDIV\n",
      "http://us.ishares.com/product_info/fund/overview/MCHI.htm\n",
      "http://www.ftportfolios.com/Retail/etf/etfsummary.aspx?Ticker=FEM\n",
      "http://www.ftportfolios.com/Retail/etf/etfsummary.aspx?Ticker=FCA\n",
      "https://etfus.deutscheawm.com/US/EN/Product-Detail-Page/DBEM\n",
      "http://www.emergingglobaladvisors.com/inco.cfm\n",
      "http://us.ishares.com/product_info/fund/overview/EEMV.htm?fundSearch=true&qt=EEMV\n",
      "http://us.ishares.com/product_info/fund/overview/INDA.htm?fundSearch=true&qt=INDA\n",
      "NFTY\n",
      "http://www.ftportfolios.com/retail/etf/etfsummary.aspx?Ticker=FEMS\n",
      "http://www.ishares.com/us/products/239660/ishares-msci-india-smallcap-etf?fundSearch=true&qt=SMIN\n",
      "https://www.ishares.com/us/products/239629/EEMA?referrer=tickerSearch\n",
      "http://www.wisdomtree.com/etfs/fund-details.aspx?etfid=80\n",
      "http://www.wisdomtree.com/etfs/fund-details.aspx?etfid=86\n",
      "https://etfus.deutscheawm.com/US/EN/Product-Detail-Page/ASHR\n",
      "http://kraneshares.com/kfyp/\n",
      "http://kraneshares.com/kweb/\n",
      "http://www.ishares.com/us/products/264606/AXJV\n",
      "http://kraneshares.com/kba/\n",
      "https://etfus.deutscheawm.com/US/EN/Product-Detail-Page/CN\n",
      "https://etfus.deutscheawm.com/US/EN/Product-Detail-Page/ASHS\n",
      "http://www.vaneck.com/funds/CNXT.aspx\n",
      "http://www.emqqetf.com/\n",
      "http://www.emergingglobaladvisors.com/xcem.cfm\n",
      "http://www.direxioninvestments.com/products/direxion-daily-csi-300-china-a-share-bull-2x-shares\n",
      "http://www.direxioninvestments.com/products/direxion-daily-csi-300-china-a-share-bear-1x-shares\n",
      "https://www.ishares.com/us/products/272820/ishares-msci-emerging-multi-factor-etf\n",
      "https://etfus.deutscheawm.com/US/EN/Product-Detail-Page/ASHX\n",
      "http://www.csopasset.us/en-us/products/etf/csop-msci-china-a-international-hedged-etf/\n",
      "https://www.spdrs.com/product/fund.seam?ticker=XINA\n",
      "KALL\n",
      "AFTY\n"
     ]
    }
   ],
   "source": [
    "#print all ETF address\n",
    "for i in range(len(all_ETF)):\n",
    "    try:\n",
    "        url=\"https://etfdb.com/etf/\"+all_ETF[i]\n",
    "        resp = requests.get(url)\n",
    "        soup = BeautifulSoup(resp.text, 'html.parser')\n",
    "        span=soup.find_all(\"a\",text='Home page')\n",
    "        url_homepage=span[0].get(\"href\")\n",
    "        print (url_homepage)\n",
    "    except:\n",
    "        print(all_ETF[i])     "
   ]
  },
  {
   "cell_type": "code",
   "execution_count": 3,
   "metadata": {},
   "outputs": [
    {
     "name": "stdout",
     "output_type": "stream",
     "text": [
      "https://www.spdrs.com/product/fund.seam?ticker=GXC\n",
      "https://www.spdrs.com/product/fund.seam?ticker=GMF\n",
      "http://www.ftportfolios.com/retail/ETF/ETFsummary.aspx?Ticker=FNI\n",
      "http://www.guggenheimfunds.com/etf/fund/HAO\n",
      "https://www.spdrs.com/product/fund.seam?ticker=EWX\n",
      "http://direxionshares.com/etf/embu_bull_3x_shares.html\n",
      "http://direxionshares.com/etf/embe_bear_3x_shares.html\n",
      "http://www.vaneck.com/index.cfm?cat=3192&cGroup=ETF&LN=3-02&tkr=IDX&LN=3_02\n",
      "http://www.direxioninvestments.com/products/direxion-daily-china-bull-3x-etf\n",
      "http://www.direxioninvestments.com/products/direxion-daily-china-bull-3x-etf\n",
      "http://guggenheiminvestments.com/products/etf/cqqq\n",
      "CHIC\n",
      "http://www.globalxfunds.com/CHIX\n",
      "http://guggenheiminvestments.com/products/etf/yao\n",
      "http://www.vaneck.com/index.cfm?cat=3192&cGroup=ETF&LN=3-02&tkr=VNM&LN=3_02\n",
      "http://www.globalxfunds.com/CHII\n",
      "http://www.globalxfunds.com/CHIQ\n",
      "http://www.globalxfunds.com/CHIE\n",
      "http://proshares.com/funds/yxi.html\n",
      "http://www.emergingglobaladvisors.com/scin.cfm\n",
      "http://vaneck.com/funds/SCIF.aspx\n",
      "http://www.ishares.com/us/products/239620/ishares-msci-china-smallcap-etf?qt=ECNS\n",
      "http://vaneck.com/funds/PEK.aspx\n",
      "http://www.direxionshares.com/etf/indiabu_2x_shares.html\n",
      "http://www.emergingglobaladvisors.com/inxx.cfm\n",
      "http://www.globalxfunds.com/CHIM\n",
      "http://www.globalxfunds.com/fundsummary.php?fundid=19401&catid=26\n",
      "https://www.spdrs.com/product/fund.seam?ticker=EDIV\n",
      "http://www.ftportfolios.com/Retail/etf/etfsummary.aspx?Ticker=FEM\n",
      "http://www.ftportfolios.com/Retail/etf/etfsummary.aspx?Ticker=FCA\n",
      "https://etfus.deutscheawm.com/US/EN/Product-Detail-Page/DBEM\n",
      "http://www.emergingglobaladvisors.com/inco.cfm\n",
      "NFTY\n",
      "http://www.ftportfolios.com/retail/etf/etfsummary.aspx?Ticker=FEMS\n",
      "http://www.ishares.com/us/products/239660/ishares-msci-india-smallcap-etf?fundSearch=true&qt=SMIN\n",
      "https://www.ishares.com/us/products/239629/EEMA?referrer=tickerSearch\n",
      "https://etfus.deutscheawm.com/US/EN/Product-Detail-Page/ASHR\n",
      "http://kraneshares.com/kfyp/\n",
      "http://kraneshares.com/kweb/\n",
      "http://www.ishares.com/us/products/264606/AXJV\n",
      "http://kraneshares.com/kba/\n",
      "https://etfus.deutscheawm.com/US/EN/Product-Detail-Page/CN\n",
      "https://etfus.deutscheawm.com/US/EN/Product-Detail-Page/ASHS\n",
      "http://www.vaneck.com/funds/CNXT.aspx\n",
      "http://www.emqqetf.com/\n",
      "http://www.emergingglobaladvisors.com/xcem.cfm\n",
      "http://www.direxioninvestments.com/products/direxion-daily-csi-300-china-a-share-bull-2x-shares\n",
      "http://www.direxioninvestments.com/products/direxion-daily-csi-300-china-a-share-bear-1x-shares\n",
      "https://www.ishares.com/us/products/272820/ishares-msci-emerging-multi-factor-etf\n",
      "https://etfus.deutscheawm.com/US/EN/Product-Detail-Page/ASHX\n",
      "http://www.csopasset.us/en-us/products/etf/csop-msci-china-a-international-hedged-etf/\n",
      "https://www.spdrs.com/product/fund.seam?ticker=XINA\n",
      "KALL\n",
      "AFTY\n"
     ]
    }
   ],
   "source": [
    "# print unsolve website\n",
    "for i in range(len(all_ETF)):\n",
    "    try:\n",
    "        url=\"https://etfdb.com/etf/\"+all_ETF[i]\n",
    "        resp = requests.get(url)\n",
    "        soup = BeautifulSoup(resp.text, 'html.parser')\n",
    "        span=soup.find_all(\"a\",text='Home page')\n",
    "        url_homepage=span[0].get(\"href\")\n",
    "        if url_homepage[:21]=='http://us.ishares.com':#處理ishare的ETF\n",
    "            continue\n",
    "        elif url_homepage[:23]=='https://www.invesco.com' or url_homepage[:29]==\"http://invescopowershares.com\":#處理invesco的ETF\n",
    "            continue\n",
    "        elif url_homepage[:29]=='https://personal.vanguard.com': #vanguard\n",
    "            continue\n",
    "        elif url_homepage[:24]=='http://www.proshares.com': #proshares\n",
    "            continue\n",
    "        elif url_homepage[:16]=='https://us.spdrs': #spdrs\n",
    "            continue\n",
    "        elif url_homepage[:25]=='http://www.wisdomtree.com': #wisdomtree\n",
    "            continue\n",
    "        else:\n",
    "            print (url_homepage)\n",
    "    except:\n",
    "        print(all_ETF[i])\n",
    "        "
   ]
  },
  {
   "cell_type": "code",
   "execution_count": null,
   "metadata": {
    "collapsed": true
   },
   "outputs": [],
   "source": [
    "for i in range(1):\n",
    "    try:\n",
    "        url_homepage=get_homepage(i)\n",
    "        print (url_homepage)\n",
    "        if url_homepage[:21]=='http://us.ishares.com':#處理ishare的ETF\n",
    "            download_ishare(i,url_homepage)\n",
    "        if url_homepage[:23]=='https://www.invesco.com' or url_homepage[:29]==\"http://invescopowershares.com\":#處理invesco的ETF\n",
    "            NAV=download_invesco(i,url_homepage)\n",
    "        if url_homepage[:29]=='https://personal.vanguard.com': #vanguard\n",
    "        if url_homepage[:24]=='http://www.proshares.com': #proshares\n",
    "        if url_homepage[:16]=='https://us.spdrs': #spdrs\n",
    "        if url_homepage[:25]=='http://www.wisdomtree.com': #wisdomtree\n",
    "            url=\"https://etfdb.com/etf/\"+all_ETF[13]\n",
    "            resp = requests.get(url)\n",
    "            soup = BeautifulSoup(resp.text, 'html.parser')\n",
    "            span=soup.find_all(\"a\",text='Home page')\n",
    "            url_homepage=span[0].get(\"href\")\n",
    "            resp = requests.get(url_homepage)\n",
    "            soup = BeautifulSoup(resp.text, 'html.parser')\n",
    "            link_address=soup.find_all(\"a\",{\"class\":\"text-link fund-modal-trigger\"})[0].get(\"data-href\")\n",
    "            data=pd.read_html(link_address,index_col=0,parse_dates=True)\n",
    "        if url_homepage[:21]=='http://www.vaneck.com':#vaneck\n",
    "        if url_homepage[:37]=='http://www.emergingglobaladvisors.com':#emerging\n",
    "            NAV=download_emerging(i,url_homepage)\n",
    "    except:\n",
    "        print(all_ETF[i])"
   ]
  },
  {
   "cell_type": "code",
   "execution_count": 22,
   "metadata": {
    "collapsed": true
   },
   "outputs": [],
   "source": [
    "#ishare 未能讀檔\n",
    "def download_ishare(i,url_homepage):\n",
    "    resp = requests.get(url_homepage)\n",
    "    soup = BeautifulSoup(resp.text, 'html.parser')\n",
    "    excel_file=soup.find_all(\"a\",{\"class\":\"icon-xls-export\"})[3].get(\"href\")\n",
    "    domain_url = \"https://www.ishares.com\"\n",
    "    excel_file= domain_url+excel_file\n",
    "    file_name=all_ETF[i]+\".xls\"\n",
    "    urllib.request.urlretrieve(excel_file, file_name)"
   ]
  },
  {
   "cell_type": "code",
   "execution_count": 57,
   "metadata": {
    "collapsed": true
   },
   "outputs": [],
   "source": [
    "#invesco\n",
    "def download_invesco(i,url_homepage):\n",
    "    options = webdriver.ChromeOptions()\n",
    "    prefs = {'profile.default_content_settings.popups': 0, 'download.default_directory': '/Users/shayumin/Documents/文字探勘/homework1'}\n",
    "    options.add_experimental_option('prefs', prefs)\n",
    "    driver = webdriver.Chrome(chrome_options=options)\n",
    "    driver.get(url_homepage)\n",
    "    driver.find_element_by_link_text(\"Historical NAVs\").click()\n",
    "    time.sleep(3)\n",
    "    driver.quit()\n",
    "    testdir = '/Users/shayumin/Documents/文字探勘/homework1'\n",
    "    list = os.listdir(testdir)\n",
    "    list.sort(key=lambda fn:os.path.getmtime(testdir+'/'+fn))\n",
    "    file_name=all_ETF[i]+\".csv\"\n",
    "    os.rename(os.path.join(testdir,list[-1]),os.path.join(testdir,file_name))\n",
    "    NAV=pd.read_csv(all_ETF[1]+\".csv\",index_col=2,parse_dates=True).loc[last_day_of_month][\"NAV\"]\n",
    "    return NAV"
   ]
  },
  {
   "cell_type": "code",
   "execution_count": 39,
   "metadata": {
    "collapsed": true
   },
   "outputs": [],
   "source": [
    "#vanguard\n",
    "url=\"https://etfdb.com/etf/\"+all_ETF[5]\n",
    "resp = requests.get(url)\n",
    "soup = BeautifulSoup(resp.text, 'html.parser')\n",
    "span=soup.find_all(\"a\",text='Home page')\n",
    "url_homepage=span[0].get(\"href\")\n",
    "search_url=\"https://personal.vanguard.com/us/funds/tools/pricehistorysearch?\"+url_homepage[url_homepage.find(\"FundId\"):url_homepage.find(\"FundIntExt\")-1]\n",
    "driver = webdriver.Chrome()\n",
    "driver.get(search_url)\n",
    "driver.find_element_by_name(\"beginDate\").send_keys(\"01/01/2016\")\n",
    "driver.find_element_by_name(\"endDate\").send_keys(\"12/31/2016\")\n",
    "driver.find_element_by_id(\"_cbdExt8\").click()"
   ]
  },
  {
   "cell_type": "code",
   "execution_count": 41,
   "metadata": {
    "collapsed": true
   },
   "outputs": [],
   "source": [
    "resp = requests.get(driver.current_url)\n",
    "soup = BeautifulSoup(resp.text, 'html.parser')"
   ]
  },
  {
   "cell_type": "code",
   "execution_count": 14,
   "metadata": {},
   "outputs": [
    {
     "name": "stderr",
     "output_type": "stream",
     "text": [
      "/anaconda/lib/python3.6/site-packages/ipykernel_launcher.py:4: DeprecationWarning: use options instead of chrome_options\n",
      "  after removing the cwd from sys.path.\n"
     ]
    }
   ],
   "source": [
    "#proshares\n",
    "options = webdriver.ChromeOptions()\n",
    "prefs = {'profile.default_content_settings.popups': 0, 'download.default_directory': '/Users/shayumin/Documents/文字探勘/homework1'}\n",
    "options.add_experimental_option('prefs', prefs)\n",
    "driver = webdriver.Chrome(chrome_options=options)\n",
    "driver.get(url_homepage)\n",
    "driver.find_element_by_link_text(\"NAV History\").click()\n",
    "time.sleep(3)\n",
    "driver.quit()\n",
    "testdir = '/Users/shayumin/Documents/文字探勘/homework1'\n",
    "list = os.listdir(testdir)\n",
    "list.sort(key=lambda fn:os.path.getmtime(testdir+'/'+fn))\n",
    "filename=all_ETF[6]+'.csv'\n",
    "os.rename(os.path.join(testdir,list[-1]),os.path.join(testdir,filename))"
   ]
  },
  {
   "cell_type": "code",
   "execution_count": 26,
   "metadata": {
    "collapsed": true
   },
   "outputs": [],
   "source": [
    "#spdrs\n",
    "url=\"https://etfdb.com/etf/\"+all_ETF[9]\n",
    "resp = requests.get(url)\n",
    "soup = BeautifulSoup(resp.text, 'html.parser')\n",
    "span=soup.find_all(\"a\",text='Home page')\n",
    "url_homepage=span[0].get(\"href\")"
   ]
  },
  {
   "cell_type": "code",
   "execution_count": 31,
   "metadata": {
    "collapsed": true,
    "scrolled": true
   },
   "outputs": [],
   "source": [
    "#wisdomtree\n",
    "url=\"https://etfdb.com/etf/\"+all_ETF[13]\n",
    "resp = requests.get(url)\n",
    "soup = BeautifulSoup(resp.text, 'html.parser')\n",
    "span=soup.find_all(\"a\",text='Home page')\n",
    "url_homepage=span[0].get(\"href\")\n",
    "resp = requests.get(url_homepage)\n",
    "soup = BeautifulSoup(resp.text, 'html.parser')\n",
    "link_address=soup.find_all(\"a\",{\"class\":\"text-link fund-modal-trigger\"})[0].get(\"data-href\")\n",
    "data=pd.read_html(link_address,index_col=0,parse_dates=True)"
   ]
  },
  {
   "cell_type": "code",
   "execution_count": 47,
   "metadata": {},
   "outputs": [
    {
     "data": {
      "text/plain": [
       "'http://www.wisdomtree.com'"
      ]
     },
     "execution_count": 47,
     "metadata": {},
     "output_type": "execute_result"
    }
   ],
   "source": [
    "url_homepage[:25]"
   ]
  },
  {
   "cell_type": "code",
   "execution_count": 9,
   "metadata": {
    "scrolled": true
   },
   "outputs": [
    {
     "name": "stderr",
     "output_type": "stream",
     "text": [
      "/anaconda/lib/python3.6/site-packages/ipykernel_launcher.py:9: DeprecationWarning: use options instead of chrome_options\n",
      "  if __name__ == '__main__':\n"
     ]
    },
    {
     "ename": "NoSuchElementException",
     "evalue": "Message: no such element: Unable to locate element: {\"method\":\"link text\",\"selector\":\"Documents\"}\n  (Session info: chrome=72.0.3626.121)\n  (Driver info: chromedriver=2.46.628411 (3324f4c8be9ff2f70a05a30ebc72ffb013e1a71e),platform=Mac OS X 10.13.6 x86_64)\n",
     "output_type": "error",
     "traceback": [
      "\u001b[0;31m---------------------------------------------------------------------------\u001b[0m",
      "\u001b[0;31mNoSuchElementException\u001b[0m                    Traceback (most recent call last)",
      "\u001b[0;32m<ipython-input-9-6898dc2f90dc>\u001b[0m in \u001b[0;36m<module>\u001b[0;34m()\u001b[0m\n\u001b[1;32m     17\u001b[0m     \u001b[0mtime\u001b[0m\u001b[0;34m.\u001b[0m\u001b[0msleep\u001b[0m\u001b[0;34m(\u001b[0m\u001b[0;36m1\u001b[0m\u001b[0;34m)\u001b[0m\u001b[0;34m\u001b[0m\u001b[0;34m\u001b[0m\u001b[0m\n\u001b[1;32m     18\u001b[0m \u001b[0mtime\u001b[0m\u001b[0;34m.\u001b[0m\u001b[0msleep\u001b[0m\u001b[0;34m(\u001b[0m\u001b[0;36m3\u001b[0m\u001b[0;34m)\u001b[0m\u001b[0;34m\u001b[0m\u001b[0;34m\u001b[0m\u001b[0m\n\u001b[0;32m---> 19\u001b[0;31m \u001b[0mdriver\u001b[0m\u001b[0;34m.\u001b[0m\u001b[0mfind_element_by_link_text\u001b[0m\u001b[0;34m(\u001b[0m\u001b[0;34m\"Documents\"\u001b[0m\u001b[0;34m)\u001b[0m\u001b[0;34m.\u001b[0m\u001b[0mclick\u001b[0m\u001b[0;34m(\u001b[0m\u001b[0;34m)\u001b[0m\u001b[0;34m\u001b[0m\u001b[0;34m\u001b[0m\u001b[0m\n\u001b[0m",
      "\u001b[0;32m/anaconda/lib/python3.6/site-packages/selenium/webdriver/remote/webdriver.py\u001b[0m in \u001b[0;36mfind_element_by_link_text\u001b[0;34m(self, link_text)\u001b[0m\n\u001b[1;32m    426\u001b[0m             \u001b[0melement\u001b[0m \u001b[0;34m=\u001b[0m \u001b[0mdriver\u001b[0m\u001b[0;34m.\u001b[0m\u001b[0mfind_element_by_link_text\u001b[0m\u001b[0;34m(\u001b[0m\u001b[0;34m'Sign In'\u001b[0m\u001b[0;34m)\u001b[0m\u001b[0;34m\u001b[0m\u001b[0;34m\u001b[0m\u001b[0m\n\u001b[1;32m    427\u001b[0m         \"\"\"\n\u001b[0;32m--> 428\u001b[0;31m         \u001b[0;32mreturn\u001b[0m \u001b[0mself\u001b[0m\u001b[0;34m.\u001b[0m\u001b[0mfind_element\u001b[0m\u001b[0;34m(\u001b[0m\u001b[0mby\u001b[0m\u001b[0;34m=\u001b[0m\u001b[0mBy\u001b[0m\u001b[0;34m.\u001b[0m\u001b[0mLINK_TEXT\u001b[0m\u001b[0;34m,\u001b[0m \u001b[0mvalue\u001b[0m\u001b[0;34m=\u001b[0m\u001b[0mlink_text\u001b[0m\u001b[0;34m)\u001b[0m\u001b[0;34m\u001b[0m\u001b[0;34m\u001b[0m\u001b[0m\n\u001b[0m\u001b[1;32m    429\u001b[0m \u001b[0;34m\u001b[0m\u001b[0m\n\u001b[1;32m    430\u001b[0m     \u001b[0;32mdef\u001b[0m \u001b[0mfind_elements_by_link_text\u001b[0m\u001b[0;34m(\u001b[0m\u001b[0mself\u001b[0m\u001b[0;34m,\u001b[0m \u001b[0mtext\u001b[0m\u001b[0;34m)\u001b[0m\u001b[0;34m:\u001b[0m\u001b[0;34m\u001b[0m\u001b[0;34m\u001b[0m\u001b[0m\n",
      "\u001b[0;32m/anaconda/lib/python3.6/site-packages/selenium/webdriver/remote/webdriver.py\u001b[0m in \u001b[0;36mfind_element\u001b[0;34m(self, by, value)\u001b[0m\n\u001b[1;32m    976\u001b[0m         return self.execute(Command.FIND_ELEMENT, {\n\u001b[1;32m    977\u001b[0m             \u001b[0;34m'using'\u001b[0m\u001b[0;34m:\u001b[0m \u001b[0mby\u001b[0m\u001b[0;34m,\u001b[0m\u001b[0;34m\u001b[0m\u001b[0;34m\u001b[0m\u001b[0m\n\u001b[0;32m--> 978\u001b[0;31m             'value': value})['value']\n\u001b[0m\u001b[1;32m    979\u001b[0m \u001b[0;34m\u001b[0m\u001b[0m\n\u001b[1;32m    980\u001b[0m     \u001b[0;32mdef\u001b[0m \u001b[0mfind_elements\u001b[0m\u001b[0;34m(\u001b[0m\u001b[0mself\u001b[0m\u001b[0;34m,\u001b[0m \u001b[0mby\u001b[0m\u001b[0;34m=\u001b[0m\u001b[0mBy\u001b[0m\u001b[0;34m.\u001b[0m\u001b[0mID\u001b[0m\u001b[0;34m,\u001b[0m \u001b[0mvalue\u001b[0m\u001b[0;34m=\u001b[0m\u001b[0;32mNone\u001b[0m\u001b[0;34m)\u001b[0m\u001b[0;34m:\u001b[0m\u001b[0;34m\u001b[0m\u001b[0;34m\u001b[0m\u001b[0m\n",
      "\u001b[0;32m/anaconda/lib/python3.6/site-packages/selenium/webdriver/remote/webdriver.py\u001b[0m in \u001b[0;36mexecute\u001b[0;34m(self, driver_command, params)\u001b[0m\n\u001b[1;32m    319\u001b[0m         \u001b[0mresponse\u001b[0m \u001b[0;34m=\u001b[0m \u001b[0mself\u001b[0m\u001b[0;34m.\u001b[0m\u001b[0mcommand_executor\u001b[0m\u001b[0;34m.\u001b[0m\u001b[0mexecute\u001b[0m\u001b[0;34m(\u001b[0m\u001b[0mdriver_command\u001b[0m\u001b[0;34m,\u001b[0m \u001b[0mparams\u001b[0m\u001b[0;34m)\u001b[0m\u001b[0;34m\u001b[0m\u001b[0;34m\u001b[0m\u001b[0m\n\u001b[1;32m    320\u001b[0m         \u001b[0;32mif\u001b[0m \u001b[0mresponse\u001b[0m\u001b[0;34m:\u001b[0m\u001b[0;34m\u001b[0m\u001b[0;34m\u001b[0m\u001b[0m\n\u001b[0;32m--> 321\u001b[0;31m             \u001b[0mself\u001b[0m\u001b[0;34m.\u001b[0m\u001b[0merror_handler\u001b[0m\u001b[0;34m.\u001b[0m\u001b[0mcheck_response\u001b[0m\u001b[0;34m(\u001b[0m\u001b[0mresponse\u001b[0m\u001b[0;34m)\u001b[0m\u001b[0;34m\u001b[0m\u001b[0;34m\u001b[0m\u001b[0m\n\u001b[0m\u001b[1;32m    322\u001b[0m             response['value'] = self._unwrap_value(\n\u001b[1;32m    323\u001b[0m                 response.get('value', None))\n",
      "\u001b[0;32m/anaconda/lib/python3.6/site-packages/selenium/webdriver/remote/errorhandler.py\u001b[0m in \u001b[0;36mcheck_response\u001b[0;34m(self, response)\u001b[0m\n\u001b[1;32m    240\u001b[0m                 \u001b[0malert_text\u001b[0m \u001b[0;34m=\u001b[0m \u001b[0mvalue\u001b[0m\u001b[0;34m[\u001b[0m\u001b[0;34m'alert'\u001b[0m\u001b[0;34m]\u001b[0m\u001b[0;34m.\u001b[0m\u001b[0mget\u001b[0m\u001b[0;34m(\u001b[0m\u001b[0;34m'text'\u001b[0m\u001b[0;34m)\u001b[0m\u001b[0;34m\u001b[0m\u001b[0;34m\u001b[0m\u001b[0m\n\u001b[1;32m    241\u001b[0m             \u001b[0;32mraise\u001b[0m \u001b[0mexception_class\u001b[0m\u001b[0;34m(\u001b[0m\u001b[0mmessage\u001b[0m\u001b[0;34m,\u001b[0m \u001b[0mscreen\u001b[0m\u001b[0;34m,\u001b[0m \u001b[0mstacktrace\u001b[0m\u001b[0;34m,\u001b[0m \u001b[0malert_text\u001b[0m\u001b[0;34m)\u001b[0m\u001b[0;34m\u001b[0m\u001b[0;34m\u001b[0m\u001b[0m\n\u001b[0;32m--> 242\u001b[0;31m         \u001b[0;32mraise\u001b[0m \u001b[0mexception_class\u001b[0m\u001b[0;34m(\u001b[0m\u001b[0mmessage\u001b[0m\u001b[0;34m,\u001b[0m \u001b[0mscreen\u001b[0m\u001b[0;34m,\u001b[0m \u001b[0mstacktrace\u001b[0m\u001b[0;34m)\u001b[0m\u001b[0;34m\u001b[0m\u001b[0;34m\u001b[0m\u001b[0m\n\u001b[0m\u001b[1;32m    243\u001b[0m \u001b[0;34m\u001b[0m\u001b[0m\n\u001b[1;32m    244\u001b[0m     \u001b[0;32mdef\u001b[0m \u001b[0m_value_or_default\u001b[0m\u001b[0;34m(\u001b[0m\u001b[0mself\u001b[0m\u001b[0;34m,\u001b[0m \u001b[0mobj\u001b[0m\u001b[0;34m,\u001b[0m \u001b[0mkey\u001b[0m\u001b[0;34m,\u001b[0m \u001b[0mdefault\u001b[0m\u001b[0;34m)\u001b[0m\u001b[0;34m:\u001b[0m\u001b[0;34m\u001b[0m\u001b[0;34m\u001b[0m\u001b[0m\n",
      "\u001b[0;31mNoSuchElementException\u001b[0m: Message: no such element: Unable to locate element: {\"method\":\"link text\",\"selector\":\"Documents\"}\n  (Session info: chrome=72.0.3626.121)\n  (Driver info: chromedriver=2.46.628411 (3324f4c8be9ff2f70a05a30ebc72ffb013e1a71e),platform=Mac OS X 10.13.6 x86_64)\n"
     ]
    }
   ],
   "source": [
    "#vaneck\n",
    "url=\"https://etfdb.com/etf/\"+all_ETF[25]\n",
    "resp = requests.get(url)\n",
    "soup = BeautifulSoup(resp.text, 'html.parser')\n",
    "span=soup.find_all(\"a\",text='Home page')\n",
    "url_homepage=span[0].get(\"href\")\n",
    "options = webdriver.ChromeOptions()\n",
    "prefs = {'profile.default_content_settings.popups': 0, 'download.default_directory': '/Users/shayumin/Documents/文字探勘/homework1'}\n",
    "options.add_experimental_option('prefs', prefs)\n",
    "driver = webdriver.Chrome(chrome_options=options)\n",
    "url_link=\"https://www.vaneck.com/etf/equity/idx/documents/\"\n",
    "driver.get(url_homepage)\n",
    "try:\n",
    "    time.sleep(1)\n",
    "    driver.find_element_by_link_text(\"Individual Investor\").click()\n",
    "    driver.find_element_by_link_text(\"I agree\").click()\n",
    "except:\n",
    "    time.sleep(1)\n",
    "time.sleep(3)\n",
    "driver.find_element_by_link_text(\"Documents\").click()"
   ]
  },
  {
   "cell_type": "code",
   "execution_count": 5,
   "metadata": {},
   "outputs": [],
   "source": [
    "url_homepage=get_homepage(41)"
   ]
  },
  {
   "cell_type": "code",
   "execution_count": 80,
   "metadata": {},
   "outputs": [],
   "source": [
    "#emerging\n",
    "def download_emerging(i,url_homepage):\n",
    "    options = webdriver.ChromeOptions()\n",
    "    prefs = {'profile.default_content_settings.popups': 0, 'download.default_directory': '/Users/shayumin/Documents/文字探勘/homework1/data'}\n",
    "    options.add_experimental_option('prefs', prefs)\n",
    "    driver = webdriver.Chrome(chrome_options=options)\n",
    "    driver.get(url_homepage)\n",
    "    driver.find_element_by_link_text(\"Download NAV/Premium Discount\").click()\n",
    "    time.sleep(40)\n",
    "    driver.quit()\n",
    "    testdir = '/Users/shayumin/Documents/文字探勘/homework1/data'\n",
    "    list = os.listdir(testdir)\n",
    "    list.sort(key=lambda fn:os.path.getmtime(testdir+'/'+fn))\n",
    "    file_name=all_ETF[i]+\".xls\"\n",
    "    os.rename(os.path.join(testdir,list[-1]),os.path.join(testdir,file_name))\n",
    "    path=\"data/\"+file_name\n",
    "    day_NAV=pd.read_excel(path,index_col=0,header=4,parse_dates=True).loc[last_day_of_month]\n",
    "    NAV=day_NAV[day_NAV[\"Fund Symbol\"]==all_ETF[i]][\"NAV\"]\n",
    "    return NAV"
   ]
  },
  {
   "cell_type": "code",
   "execution_count": 81,
   "metadata": {},
   "outputs": [
    {
     "name": "stderr",
     "output_type": "stream",
     "text": [
      "/anaconda/lib/python3.6/site-packages/ipykernel_launcher.py:6: DeprecationWarning: use options instead of chrome_options\n",
      "  \n"
     ]
    }
   ],
   "source": [
    "download_emerging(41,url_homepage)"
   ]
  },
  {
   "cell_type": "code",
   "execution_count": null,
   "metadata": {
    "collapsed": true
   },
   "outputs": [],
   "source": []
  }
 ],
 "metadata": {
  "kernelspec": {
   "display_name": "Python 3",
   "language": "python",
   "name": "python3"
  },
  "language_info": {
   "codemirror_mode": {
    "name": "ipython",
    "version": 3
   },
   "file_extension": ".py",
   "mimetype": "text/x-python",
   "name": "python",
   "nbconvert_exporter": "python",
   "pygments_lexer": "ipython3",
   "version": "3.6.7"
  }
 },
 "nbformat": 4,
 "nbformat_minor": 2
}
